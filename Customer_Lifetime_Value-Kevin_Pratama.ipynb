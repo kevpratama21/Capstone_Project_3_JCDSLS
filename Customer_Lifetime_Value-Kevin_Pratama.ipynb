{
 "cells": [
  {
   "cell_type": "markdown",
   "metadata": {},
   "source": [
    "# Customer Lifetime Value\n",
    "### Created By : Kevin Pratama\n",
    "---"
   ]
  },
  {
   "cell_type": "markdown",
   "metadata": {
    "id": "XLmmP-umk-Az"
   },
   "source": [
    "[Sumber data](https://drive.google.com/file/d/1pYhQb2WcbwLAaMF4FPIEJSM34O-1A4v8/view?usp=sharing) \n",
    "\n",
    "### **Contents**\n",
    "\n",
    "1. Business Problem Understanding\n",
    "2. Data Understanding\n",
    "3. Data Preprocessing\n",
    "4. Modeling\n",
    "5. Conclusion\n",
    "6. Recommendation\n"
   ]
  },
  {
   "cell_type": "markdown",
   "metadata": {
    "id": "4AfFAHobk-A1"
   },
   "source": [
    "## **1. Business Problem Understanding**\n",
    "---"
   ]
  },
  {
   "cell_type": "markdown",
   "metadata": {
    "id": "-vzFEqaok-A1"
   },
   "source": [
    "**1.1. Context**\n",
    "\n",
    "Sebuah perusahaan yang bergerak di bidang auto insurance ingin meningkatkan profitnya.\n",
    "Dari seluruh populasi customernya perusahaan ingin melakukan evalusi mengenai aspek apa saja yang dianggap dapat memberikan pengaruh dalam peningkatan profit perusahaan.\n",
    "\n",
    "Parameter yang akan digunakan untuk evalusai customer adalah dengan menggunakan nilai customer lifetime value (CLV).\n",
    "CLV adalah sebuah metrik untuk memperkirakan total nilai customer terhadap sebuah perusahaan dalam jangka waktu tertentu (mengikuti durasi hubungan bisnis keduanya). \n",
    "Secara sederhana, CLV adalah prediksi atas nilai total pendapatan yang bisa perusahaan dapatkan dari customernya. Semakin besar CLV maka semakin besar juga profit perusahaan"
   ]
  },
  {
   "cell_type": "markdown",
   "metadata": {
    "id": "-vzFEqaok-A1"
   },
   "source": [
    "**1.2. Problem Statement**\n",
    "\n",
    "Salah satu permasalahan perusahaan auto insurance ini adalah menentukan aspek apa saja yang dapat memberikan pengaruh dalam peningkatan profit perusahaan sehingga dapat memfokuskan strategi bisnisnya ke aspek-aspek yang dianggap berpengaruh nantinya. \n",
    "Perusahaan juga perlu mengetahui berapa biaya maksimal yang bisa dikeluarkan untuk mengakuisisi customer. Jangan sampai biaya akuisisi yang dikeluarkan melebihi batas sehingga mengurangi profit perusahaan secara signifikan."
   ]
  },
  {
   "cell_type": "markdown",
   "metadata": {},
   "source": [
    "**1.3. Goals**\n",
    "\n",
    "Berdasarkan permasalahan tersebut, perusahaan auto insurance ini perlu memiliki tool yang dapat memprediksi CLV, sehingga dapat membantu untuk menentukan aspek apa saja yang berpengaruh dalam memberikan profit kepada perusahaan dan menentukan biaya maksimal untuk melakukan akuisisi customer.\n",
    "\n"
   ]
  },
  {
   "cell_type": "markdown",
   "metadata": {},
   "source": [
    "**1.4. Analytic Approach**\n",
    "\n",
    "Jadi, yang perlu kita lakukan adalah menganalisis data untuk dapat menemukan pola dari fitur-fitur yang ada, yang dapat membedakan satu customer dengan yang lainnya.\n",
    "\n",
    "Selanjutnya, kita akan membangun suatu model regresi yang akan membantu perusahaan untuk menyediakan tool yang dapat memprediksi CLV dari setiap customer, sehingga akan berguna untuk melihat profit yang akan didapatkan perusahaan dari setiap customer."
   ]
  },
  {
   "cell_type": "markdown",
   "metadata": {},
   "source": [
    "**1.5. Metric Evaluation**\n",
    "\n",
    "Evaluasi metrik yang akan digunakan yaitu:\n",
    "- RMSE adalah nilai rataan akar kuadrat dari error \n",
    "- MAE adalah rataan nilai absolut dari error\n",
    "- MAPE adalah rataan nilai persentase error yang dihasilkan oleh model regresi\n",
    "- R-squared adalah nilai seberapa baik model dapat merepresentasikan varians keseluruhan data\n",
    "\n",
    "Semakin kecil nilai RMSE, MAE, dan MAPE yang dihasilkan, berarti model semakin akurat dalam memprediksi sesuai dengan limitasi fitur yang digunakan. \n",
    "\n",
    "Semakin mendekati 1 nilai R-squared yang dihasilkan, berarti semakin fit pula modelnya terhadap data observasi."
   ]
  },
  {
   "cell_type": "markdown",
   "metadata": {},
   "source": [
    "## **2. Data Understanding**\n",
    "---"
   ]
  },
  {
   "cell_type": "markdown",
   "metadata": {},
   "source": [
    "### **2.1. Data Information**"
   ]
  },
  {
   "cell_type": "markdown",
   "metadata": {},
   "source": [
    "- Dataset yang digunakan berisi informasi customer dan informasi polis asuransi kendaraan mereka dari sejak awal menggunakan produk asuransi perusahaan auto insurance ini.\n",
    "- Setiap baris data merepresentasikan informasi terkait keterangan seorang customer dengan polis asuransi kendaraan miliknya.\n",
    "\n",
    "**Attributes Information**\n",
    "\n",
    "| **Attribute** | **Data Type** | **Description** |\n",
    "| --- | --- | --- |\n",
    "| Vehicle Class             | Object    | Tipe kendaraan |\n",
    "| Coverage                  | Object    | Jenis pertanggungan polis asuransi customer |\n",
    "| Renew Offer Type          | Object    | Penawaran untuk pembaruan polis |\n",
    "| EmploymentStatus          | Object    | Status pekerjaan cutomer |\n",
    "| Marital Status            | Object    | Status pernikahan cutomer |\n",
    "| Education                 | Object    | Tingkat pendidikan customer |\n",
    "| Number of Policies        | Float     | Jumlah polis yang dimiliki customer |\n",
    "| Monthly Premium Auto      | Float     | Premi customer perbulan (USD) |\n",
    "| Total Claim Amount        | Float     | Jumlah claim customer (USD) |\n",
    "| Income                    | Float     | Pendapatan cutomer (USD) |\n",
    "| Customer Lifetime Value   | Float     | Customer Lifetime Value (Target) |\n",
    "\n",
    "<br>"
   ]
  },
  {
   "cell_type": "code",
   "execution_count": 1,
   "metadata": {
    "id": "e5ryyvXuk-A7"
   },
   "outputs": [],
   "source": [
    "# Import library yang dibutuhkan untuk eksplorasi dataset\n",
    "import pandas as pd \n",
    "import numpy as np\n",
    "import matplotlib.pyplot as plt\n",
    "import seaborn as sns\n",
    "\n",
    "import warnings\n",
    "warnings.filterwarnings('ignore')\n",
    "\n",
    "pd.set_option('display.max_columns', None)"
   ]
  },
  {
   "cell_type": "code",
   "execution_count": 2,
   "metadata": {
    "id": "zfn9NZxAk-A9",
    "outputId": "a078f598-292e-4bb5-a92c-e25500b30c85"
   },
   "outputs": [
    {
     "data": {
      "text/html": [
       "<div>\n",
       "<style scoped>\n",
       "    .dataframe tbody tr th:only-of-type {\n",
       "        vertical-align: middle;\n",
       "    }\n",
       "\n",
       "    .dataframe tbody tr th {\n",
       "        vertical-align: top;\n",
       "    }\n",
       "\n",
       "    .dataframe thead th {\n",
       "        text-align: right;\n",
       "    }\n",
       "</style>\n",
       "<table border=\"1\" class=\"dataframe\">\n",
       "  <thead>\n",
       "    <tr style=\"text-align: right;\">\n",
       "      <th></th>\n",
       "      <th>Vehicle Class</th>\n",
       "      <th>Coverage</th>\n",
       "      <th>Renew Offer Type</th>\n",
       "      <th>EmploymentStatus</th>\n",
       "      <th>Marital Status</th>\n",
       "      <th>Education</th>\n",
       "      <th>Number of Policies</th>\n",
       "      <th>Monthly Premium Auto</th>\n",
       "      <th>Total Claim Amount</th>\n",
       "      <th>Income</th>\n",
       "      <th>Customer Lifetime Value</th>\n",
       "    </tr>\n",
       "  </thead>\n",
       "  <tbody>\n",
       "    <tr>\n",
       "      <th>0</th>\n",
       "      <td>Four-Door Car</td>\n",
       "      <td>Extended</td>\n",
       "      <td>Offer1</td>\n",
       "      <td>Retired</td>\n",
       "      <td>Divorced</td>\n",
       "      <td>High School or Below</td>\n",
       "      <td>2.0</td>\n",
       "      <td>90.0</td>\n",
       "      <td>571.479602</td>\n",
       "      <td>11828.0</td>\n",
       "      <td>10083.486880</td>\n",
       "    </tr>\n",
       "    <tr>\n",
       "      <th>1</th>\n",
       "      <td>Four-Door Car</td>\n",
       "      <td>Basic</td>\n",
       "      <td>Offer1</td>\n",
       "      <td>Employed</td>\n",
       "      <td>Married</td>\n",
       "      <td>College</td>\n",
       "      <td>6.0</td>\n",
       "      <td>62.0</td>\n",
       "      <td>114.514440</td>\n",
       "      <td>44762.0</td>\n",
       "      <td>4943.386117</td>\n",
       "    </tr>\n",
       "    <tr>\n",
       "      <th>2</th>\n",
       "      <td>Two-Door Car</td>\n",
       "      <td>Basic</td>\n",
       "      <td>Offer1</td>\n",
       "      <td>Retired</td>\n",
       "      <td>Married</td>\n",
       "      <td>Master</td>\n",
       "      <td>2.0</td>\n",
       "      <td>62.0</td>\n",
       "      <td>257.248789</td>\n",
       "      <td>21514.0</td>\n",
       "      <td>11981.984810</td>\n",
       "    </tr>\n",
       "    <tr>\n",
       "      <th>3</th>\n",
       "      <td>Four-Door Car</td>\n",
       "      <td>Premium</td>\n",
       "      <td>Offer3</td>\n",
       "      <td>Disabled</td>\n",
       "      <td>Married</td>\n",
       "      <td>High School or Below</td>\n",
       "      <td>1.0</td>\n",
       "      <td>116.0</td>\n",
       "      <td>556.800000</td>\n",
       "      <td>17913.0</td>\n",
       "      <td>4550.856045</td>\n",
       "    </tr>\n",
       "    <tr>\n",
       "      <th>4</th>\n",
       "      <td>Two-Door Car</td>\n",
       "      <td>Basic</td>\n",
       "      <td>Offer3</td>\n",
       "      <td>Medical Leave</td>\n",
       "      <td>Married</td>\n",
       "      <td>High School or Below</td>\n",
       "      <td>1.0</td>\n",
       "      <td>62.0</td>\n",
       "      <td>355.820799</td>\n",
       "      <td>19030.0</td>\n",
       "      <td>2372.155492</td>\n",
       "    </tr>\n",
       "  </tbody>\n",
       "</table>\n",
       "</div>"
      ],
      "text/plain": [
       "   Vehicle Class  Coverage Renew Offer Type EmploymentStatus Marital Status  \\\n",
       "0  Four-Door Car  Extended           Offer1          Retired       Divorced   \n",
       "1  Four-Door Car     Basic           Offer1         Employed        Married   \n",
       "2   Two-Door Car     Basic           Offer1          Retired        Married   \n",
       "3  Four-Door Car   Premium           Offer3         Disabled        Married   \n",
       "4   Two-Door Car     Basic           Offer3    Medical Leave        Married   \n",
       "\n",
       "              Education  Number of Policies  Monthly Premium Auto  \\\n",
       "0  High School or Below                 2.0                  90.0   \n",
       "1               College                 6.0                  62.0   \n",
       "2                Master                 2.0                  62.0   \n",
       "3  High School or Below                 1.0                 116.0   \n",
       "4  High School or Below                 1.0                  62.0   \n",
       "\n",
       "   Total Claim Amount   Income  Customer Lifetime Value  \n",
       "0          571.479602  11828.0             10083.486880  \n",
       "1          114.514440  44762.0              4943.386117  \n",
       "2          257.248789  21514.0             11981.984810  \n",
       "3          556.800000  17913.0              4550.856045  \n",
       "4          355.820799  19030.0              2372.155492  "
      ]
     },
     "execution_count": 2,
     "metadata": {},
     "output_type": "execute_result"
    }
   ],
   "source": [
    "# Load dataset\n",
    "df = pd.read_csv('data_customer_lifetime_value.csv')\n",
    "df.head()"
   ]
  },
  {
   "cell_type": "code",
   "execution_count": 3,
   "metadata": {},
   "outputs": [
    {
     "name": "stdout",
     "output_type": "stream",
     "text": [
      "<class 'pandas.core.frame.DataFrame'>\n",
      "RangeIndex: 5669 entries, 0 to 5668\n",
      "Data columns (total 11 columns):\n",
      " #   Column                   Non-Null Count  Dtype  \n",
      "---  ------                   --------------  -----  \n",
      " 0   Vehicle Class            5669 non-null   object \n",
      " 1   Coverage                 5669 non-null   object \n",
      " 2   Renew Offer Type         5669 non-null   object \n",
      " 3   EmploymentStatus         5669 non-null   object \n",
      " 4   Marital Status           5669 non-null   object \n",
      " 5   Education                5669 non-null   object \n",
      " 6   Number of Policies       5669 non-null   float64\n",
      " 7   Monthly Premium Auto     5669 non-null   float64\n",
      " 8   Total Claim Amount       5669 non-null   float64\n",
      " 9   Income                   5669 non-null   float64\n",
      " 10  Customer Lifetime Value  5669 non-null   float64\n",
      "dtypes: float64(5), object(6)\n",
      "memory usage: 487.3+ KB\n"
     ]
    }
   ],
   "source": [
    "df.info()"
   ]
  },
  {
   "cell_type": "markdown",
   "metadata": {},
   "source": [
    "### **2.2. Exploratory Data Analysis**"
   ]
  },
  {
   "cell_type": "markdown",
   "metadata": {},
   "source": [
    "**Distribution**"
   ]
  },
  {
   "cell_type": "code",
   "execution_count": 4,
   "metadata": {},
   "outputs": [
    {
     "data": {
      "image/png": "[encoded data removed]",
      "text/plain": [
       "<Figure size 1440x792 with 5 Axes>"
      ]
     },
     "metadata": {
      "needs_background": "light"
     },
     "output_type": "display_data"
    }
   ],
   "source": [
    "fig = plt.figure(figsize=(20,11))\n",
    "\n",
    "#  subplot #1\n",
    "plt.subplot(231)\n",
    "plt.title('CLV', size=15, weight='bold')\n",
    "sns.distplot(df['Customer Lifetime Value'])\n",
    "\n",
    "#  subplot #2\n",
    "plt.subplot(232)\n",
    "plt.title('Income', size=15, weight='bold')\n",
    "sns.distplot(df['Income'])\n",
    "\n",
    "#  subplot #3\n",
    "plt.subplot(233)\n",
    "plt.title('Total Claim Amount', size=15, weight='bold')\n",
    "sns.distplot(df['Total Claim Amount'])\n",
    "\n",
    "#  subplot #4\n",
    "plt.subplot(234)\n",
    "plt.title('Monthly Premium Auto', size=15, weight='bold')\n",
    "sns.distplot(df['Monthly Premium Auto'])\n",
    "\n",
    "#  subplot #5\n",
    "plt.subplot(235)\n",
    "plt.title('Number of Policies', size=15, weight='bold')\n",
    "sns.distplot(df['Number of Policies'])\n",
    "\n",
    "plt.show()"
   ]
  },
  {
   "cell_type": "markdown",
   "metadata": {},
   "source": [
    "Berdasarkan plot distribusi pada fitur-fitur yang ada di dataset, terlihat bahwa terdapat 'right-skewed distribution'. Dengan kata lain, terdapat skewness positif pada CLV, Income, Total Claim Amount, Monthly Premium Auto, Number of Policies."
   ]
  },
  {
   "cell_type": "markdown",
   "metadata": {},
   "source": [
    "**Descriptive statistic**"
   ]
  },
  {
   "cell_type": "code",
   "execution_count": 5,
   "metadata": {},
   "outputs": [
    {
     "data": {
      "text/html": [
       "<div>\n",
       "<style scoped>\n",
       "    .dataframe tbody tr th:only-of-type {\n",
       "        vertical-align: middle;\n",
       "    }\n",
       "\n",
       "    .dataframe tbody tr th {\n",
       "        vertical-align: top;\n",
       "    }\n",
       "\n",
       "    .dataframe thead th {\n",
       "        text-align: right;\n",
       "    }\n",
       "</style>\n",
       "<table border=\"1\" class=\"dataframe\">\n",
       "  <thead>\n",
       "    <tr style=\"text-align: right;\">\n",
       "      <th></th>\n",
       "      <th>Number of Policies</th>\n",
       "      <th>Monthly Premium Auto</th>\n",
       "      <th>Total Claim Amount</th>\n",
       "      <th>Income</th>\n",
       "      <th>Customer Lifetime Value</th>\n",
       "    </tr>\n",
       "  </thead>\n",
       "  <tbody>\n",
       "    <tr>\n",
       "      <th>count</th>\n",
       "      <td>5669.000000</td>\n",
       "      <td>5669.000000</td>\n",
       "      <td>5669.000000</td>\n",
       "      <td>5669.000000</td>\n",
       "      <td>5669.000000</td>\n",
       "    </tr>\n",
       "    <tr>\n",
       "      <th>mean</th>\n",
       "      <td>2.979361</td>\n",
       "      <td>93.026989</td>\n",
       "      <td>431.407103</td>\n",
       "      <td>37868.188569</td>\n",
       "      <td>8029.874592</td>\n",
       "    </tr>\n",
       "    <tr>\n",
       "      <th>std</th>\n",
       "      <td>2.393187</td>\n",
       "      <td>34.551795</td>\n",
       "      <td>287.558038</td>\n",
       "      <td>30490.490723</td>\n",
       "      <td>6916.708246</td>\n",
       "    </tr>\n",
       "    <tr>\n",
       "      <th>min</th>\n",
       "      <td>1.000000</td>\n",
       "      <td>61.000000</td>\n",
       "      <td>0.423310</td>\n",
       "      <td>0.000000</td>\n",
       "      <td>1898.007675</td>\n",
       "    </tr>\n",
       "    <tr>\n",
       "      <th>25%</th>\n",
       "      <td>1.000000</td>\n",
       "      <td>68.000000</td>\n",
       "      <td>266.932542</td>\n",
       "      <td>0.000000</td>\n",
       "      <td>3954.344534</td>\n",
       "    </tr>\n",
       "    <tr>\n",
       "      <th>50%</th>\n",
       "      <td>2.000000</td>\n",
       "      <td>82.000000</td>\n",
       "      <td>379.200000</td>\n",
       "      <td>34322.000000</td>\n",
       "      <td>5800.188903</td>\n",
       "    </tr>\n",
       "    <tr>\n",
       "      <th>75%</th>\n",
       "      <td>4.000000</td>\n",
       "      <td>109.000000</td>\n",
       "      <td>549.986128</td>\n",
       "      <td>62464.000000</td>\n",
       "      <td>9031.214859</td>\n",
       "    </tr>\n",
       "    <tr>\n",
       "      <th>max</th>\n",
       "      <td>9.000000</td>\n",
       "      <td>297.000000</td>\n",
       "      <td>2759.794354</td>\n",
       "      <td>99934.000000</td>\n",
       "      <td>83325.381190</td>\n",
       "    </tr>\n",
       "  </tbody>\n",
       "</table>\n",
       "</div>"
      ],
      "text/plain": [
       "       Number of Policies  Monthly Premium Auto  Total Claim Amount  \\\n",
       "count         5669.000000           5669.000000         5669.000000   \n",
       "mean             2.979361             93.026989          431.407103   \n",
       "std              2.393187             34.551795          287.558038   \n",
       "min              1.000000             61.000000            0.423310   \n",
       "25%              1.000000             68.000000          266.932542   \n",
       "50%              2.000000             82.000000          379.200000   \n",
       "75%              4.000000            109.000000          549.986128   \n",
       "max              9.000000            297.000000         2759.794354   \n",
       "\n",
       "             Income  Customer Lifetime Value  \n",
       "count   5669.000000              5669.000000  \n",
       "mean   37868.188569              8029.874592  \n",
       "std    30490.490723              6916.708246  \n",
       "min        0.000000              1898.007675  \n",
       "25%        0.000000              3954.344534  \n",
       "50%    34322.000000              5800.188903  \n",
       "75%    62464.000000              9031.214859  \n",
       "max    99934.000000             83325.381190  "
      ]
     },
     "metadata": {},
     "output_type": "display_data"
    },
    {
     "data": {
      "text/html": [
       "<div>\n",
       "<style scoped>\n",
       "    .dataframe tbody tr th:only-of-type {\n",
       "        vertical-align: middle;\n",
       "    }\n",
       "\n",
       "    .dataframe tbody tr th {\n",
       "        vertical-align: top;\n",
       "    }\n",
       "\n",
       "    .dataframe thead th {\n",
       "        text-align: right;\n",
       "    }\n",
       "</style>\n",
       "<table border=\"1\" class=\"dataframe\">\n",
       "  <thead>\n",
       "    <tr style=\"text-align: right;\">\n",
       "      <th></th>\n",
       "      <th>Vehicle Class</th>\n",
       "      <th>Coverage</th>\n",
       "      <th>Renew Offer Type</th>\n",
       "      <th>EmploymentStatus</th>\n",
       "      <th>Marital Status</th>\n",
       "      <th>Education</th>\n",
       "    </tr>\n",
       "  </thead>\n",
       "  <tbody>\n",
       "    <tr>\n",
       "      <th>count</th>\n",
       "      <td>5669</td>\n",
       "      <td>5669</td>\n",
       "      <td>5669</td>\n",
       "      <td>5669</td>\n",
       "      <td>5669</td>\n",
       "      <td>5669</td>\n",
       "    </tr>\n",
       "    <tr>\n",
       "      <th>unique</th>\n",
       "      <td>6</td>\n",
       "      <td>3</td>\n",
       "      <td>4</td>\n",
       "      <td>5</td>\n",
       "      <td>3</td>\n",
       "      <td>5</td>\n",
       "    </tr>\n",
       "    <tr>\n",
       "      <th>top</th>\n",
       "      <td>Four-Door Car</td>\n",
       "      <td>Basic</td>\n",
       "      <td>Offer1</td>\n",
       "      <td>Employed</td>\n",
       "      <td>Married</td>\n",
       "      <td>Bachelor</td>\n",
       "    </tr>\n",
       "    <tr>\n",
       "      <th>freq</th>\n",
       "      <td>2858</td>\n",
       "      <td>3477</td>\n",
       "      <td>2292</td>\n",
       "      <td>3541</td>\n",
       "      <td>3305</td>\n",
       "      <td>1703</td>\n",
       "    </tr>\n",
       "  </tbody>\n",
       "</table>\n",
       "</div>"
      ],
      "text/plain": [
       "        Vehicle Class Coverage Renew Offer Type EmploymentStatus  \\\n",
       "count            5669     5669             5669             5669   \n",
       "unique              6        3                4                5   \n",
       "top     Four-Door Car    Basic           Offer1         Employed   \n",
       "freq             2858     3477             2292             3541   \n",
       "\n",
       "       Marital Status Education  \n",
       "count            5669      5669  \n",
       "unique              3         5  \n",
       "top           Married  Bachelor  \n",
       "freq             3305      1703  "
      ]
     },
     "metadata": {},
     "output_type": "display_data"
    }
   ],
   "source": [
    "display(df.describe(), df.describe(include='object'))"
   ]
  },
  {
   "cell_type": "markdown",
   "metadata": {},
   "source": [
    "Dari descriptive statistic diatas kita dapat melihat:\n",
    "- Pada data numerik kita mendapat insight mengenai count, mean, std, dll\n",
    "- Pada data kategorik kita mendapat insight mengenai karakteristik polis yang paling banyak dimiliki customer dan karakteristik customer itu sendiri.\n",
    "karakteristik polis yang paling dominan adalah untuk kendaraan tipe Four-Door Car, coverage tipe Basic, dan Renew Offer tipe 1.\n",
    "karakteristik customer yang paling dominan adalah yang sudah bekerja, menikah, dan tingkat pendidikan sarjana."
   ]
  },
  {
   "cell_type": "markdown",
   "metadata": {},
   "source": [
    "**Correlation**"
   ]
  },
  {
   "cell_type": "code",
   "execution_count": 6,
   "metadata": {},
   "outputs": [
    {
     "data": {
      "image/png": "[encoded data removed]",
      "text/plain": [
       "<Figure size 648x504 with 2 Axes>"
      ]
     },
     "metadata": {
      "needs_background": "light"
     },
     "output_type": "display_data"
    }
   ],
   "source": [
    "plt.figure(figsize=(9, 7))\n",
    "palette=sns.diverging_palette(20, 220, n=256)\n",
    "corr = df.corr(method='spearman')\n",
    "sns.heatmap(corr, annot=True, fmt='.2f', cmap=\"YlGnBu\", square=True, linewidths=1)\n",
    "plt.title('Correlation Matrix', size=15, weight='bold')\n",
    "plt.show()"
   ]
  },
  {
   "cell_type": "markdown",
   "metadata": {
    "id": "uayEjqoPk-BK"
   },
   "source": [
    "Korelasi yang digunakan dalam case ini adalah korelasi Spearman dikarenakan tidak memiliki syarat berdistribusi normal.\n",
    "\n",
    "Dari correlation matrix diatas menunjukkan bahwa korelasi paling tinggi terhadap CLV dimiliki oleh fitur 'Monthly Premium Auto', dengan nilai 0.46 dan fitur 'Number of Policies' dengan nilai 0.49.\n",
    "\n",
    "Berdasarkan [artikel ini](https://towardsdatascience.com/eveything-you-need-to-know-about-interpreting-correlations-2c485841c0b8) nilai korelasi kedua fitur tersebut termasuk low positive correlation, yang berarti kedua fitur tersebut memiliki pengaruh terhadap CLV tetapi tidak kuat. "
   ]
  },
  {
   "cell_type": "markdown",
   "metadata": {},
   "source": [
    "## **3. Data Preprocessing**\n",
    "---"
   ]
  },
  {
   "cell_type": "markdown",
   "metadata": {},
   "source": [
    "Pada tahap ini, kita akan melakukan cleaning pada data yang nantinya akan kita gunakan untuk proses analisis selanjutnya. \n",
    "Beberapa hal yang perlu dilakukan adalah:\n",
    "- Drop fitur yang tidak memiliki relevansi terhadap permasalahan yang sedang dihadapi.\n",
    "- Melakukan treatment terhadap missing value jika ada.\n",
    "- Melakukan treatment terhadap outlier jika ada."
   ]
  },
  {
   "cell_type": "markdown",
   "metadata": {},
   "source": [
    "### **3.1. Cek Feature, Unique Value, dan Missing Value**"
   ]
  },
  {
   "cell_type": "code",
   "execution_count": 7,
   "metadata": {},
   "outputs": [],
   "source": [
    "# Membuat duplikat dataframe\n",
    "df_model = df.copy()"
   ]
  },
  {
   "cell_type": "code",
   "execution_count": 8,
   "metadata": {},
   "outputs": [
    {
     "data": {
      "text/html": [
       "<div>\n",
       "<style scoped>\n",
       "    .dataframe tbody tr th:only-of-type {\n",
       "        vertical-align: middle;\n",
       "    }\n",
       "\n",
       "    .dataframe tbody tr th {\n",
       "        vertical-align: top;\n",
       "    }\n",
       "\n",
       "    .dataframe thead th {\n",
       "        text-align: right;\n",
       "    }\n",
       "</style>\n",
       "<table border=\"1\" class=\"dataframe\">\n",
       "  <thead>\n",
       "    <tr style=\"text-align: right;\">\n",
       "      <th></th>\n",
       "      <th>dataFeatures</th>\n",
       "      <th>dataType</th>\n",
       "      <th>null</th>\n",
       "      <th>nullPct</th>\n",
       "      <th>unique</th>\n",
       "      <th>uniqueSample</th>\n",
       "    </tr>\n",
       "  </thead>\n",
       "  <tbody>\n",
       "    <tr>\n",
       "      <th>0</th>\n",
       "      <td>Vehicle Class</td>\n",
       "      <td>object</td>\n",
       "      <td>0</td>\n",
       "      <td>0.0</td>\n",
       "      <td>6</td>\n",
       "      <td>[Four-Door Car, Two-Door Car, SUV, Sports Car,...</td>\n",
       "    </tr>\n",
       "    <tr>\n",
       "      <th>1</th>\n",
       "      <td>Coverage</td>\n",
       "      <td>object</td>\n",
       "      <td>0</td>\n",
       "      <td>0.0</td>\n",
       "      <td>3</td>\n",
       "      <td>[Extended, Basic, Premium]</td>\n",
       "    </tr>\n",
       "    <tr>\n",
       "      <th>2</th>\n",
       "      <td>Renew Offer Type</td>\n",
       "      <td>object</td>\n",
       "      <td>0</td>\n",
       "      <td>0.0</td>\n",
       "      <td>4</td>\n",
       "      <td>[Offer1, Offer3, Offer2, Offer4]</td>\n",
       "    </tr>\n",
       "    <tr>\n",
       "      <th>3</th>\n",
       "      <td>EmploymentStatus</td>\n",
       "      <td>object</td>\n",
       "      <td>0</td>\n",
       "      <td>0.0</td>\n",
       "      <td>5</td>\n",
       "      <td>[Retired, Employed, Disabled, Medical Leave, U...</td>\n",
       "    </tr>\n",
       "    <tr>\n",
       "      <th>4</th>\n",
       "      <td>Marital Status</td>\n",
       "      <td>object</td>\n",
       "      <td>0</td>\n",
       "      <td>0.0</td>\n",
       "      <td>3</td>\n",
       "      <td>[Divorced, Married, Single]</td>\n",
       "    </tr>\n",
       "    <tr>\n",
       "      <th>5</th>\n",
       "      <td>Education</td>\n",
       "      <td>object</td>\n",
       "      <td>0</td>\n",
       "      <td>0.0</td>\n",
       "      <td>5</td>\n",
       "      <td>[High School or Below, College, Master, Bachel...</td>\n",
       "    </tr>\n",
       "    <tr>\n",
       "      <th>6</th>\n",
       "      <td>Number of Policies</td>\n",
       "      <td>float64</td>\n",
       "      <td>0</td>\n",
       "      <td>0.0</td>\n",
       "      <td>9</td>\n",
       "      <td>[2.0, 6.0, 1.0, 8.0, 5.0, 3.0, 7.0, 4.0, 9.0]</td>\n",
       "    </tr>\n",
       "    <tr>\n",
       "      <th>7</th>\n",
       "      <td>Monthly Premium Auto</td>\n",
       "      <td>float64</td>\n",
       "      <td>0</td>\n",
       "      <td>0.0</td>\n",
       "      <td>191</td>\n",
       "      <td>[90.0, 62.0, 116.0, 107.0, 101.0, 66.0, 65.0, ...</td>\n",
       "    </tr>\n",
       "    <tr>\n",
       "      <th>8</th>\n",
       "      <td>Total Claim Amount</td>\n",
       "      <td>float64</td>\n",
       "      <td>0</td>\n",
       "      <td>0.0</td>\n",
       "      <td>3274</td>\n",
       "      <td>[571.479602, 114.51444, 257.248789, 556.8, 355...</td>\n",
       "    </tr>\n",
       "    <tr>\n",
       "      <th>9</th>\n",
       "      <td>Income</td>\n",
       "      <td>float64</td>\n",
       "      <td>0</td>\n",
       "      <td>0.0</td>\n",
       "      <td>3625</td>\n",
       "      <td>[11828.0, 44762.0, 21514.0, 17913.0, 19030.0, ...</td>\n",
       "    </tr>\n",
       "    <tr>\n",
       "      <th>10</th>\n",
       "      <td>Customer Lifetime Value</td>\n",
       "      <td>float64</td>\n",
       "      <td>0</td>\n",
       "      <td>0.0</td>\n",
       "      <td>5049</td>\n",
       "      <td>[10083.48688, 4943.386117, 11981.98481, 4550.8...</td>\n",
       "    </tr>\n",
       "  </tbody>\n",
       "</table>\n",
       "</div>"
      ],
      "text/plain": [
       "               dataFeatures dataType  null  nullPct  unique  \\\n",
       "0             Vehicle Class   object     0      0.0       6   \n",
       "1                  Coverage   object     0      0.0       3   \n",
       "2          Renew Offer Type   object     0      0.0       4   \n",
       "3          EmploymentStatus   object     0      0.0       5   \n",
       "4            Marital Status   object     0      0.0       3   \n",
       "5                 Education   object     0      0.0       5   \n",
       "6        Number of Policies  float64     0      0.0       9   \n",
       "7      Monthly Premium Auto  float64     0      0.0     191   \n",
       "8        Total Claim Amount  float64     0      0.0    3274   \n",
       "9                    Income  float64     0      0.0    3625   \n",
       "10  Customer Lifetime Value  float64     0      0.0    5049   \n",
       "\n",
       "                                         uniqueSample  \n",
       "0   [Four-Door Car, Two-Door Car, SUV, Sports Car,...  \n",
       "1                          [Extended, Basic, Premium]  \n",
       "2                    [Offer1, Offer3, Offer2, Offer4]  \n",
       "3   [Retired, Employed, Disabled, Medical Leave, U...  \n",
       "4                         [Divorced, Married, Single]  \n",
       "5   [High School or Below, College, Master, Bachel...  \n",
       "6       [2.0, 6.0, 1.0, 8.0, 5.0, 3.0, 7.0, 4.0, 9.0]  \n",
       "7   [90.0, 62.0, 116.0, 107.0, 101.0, 66.0, 65.0, ...  \n",
       "8   [571.479602, 114.51444, 257.248789, 556.8, 355...  \n",
       "9   [11828.0, 44762.0, 21514.0, 17913.0, 19030.0, ...  \n",
       "10  [10083.48688, 4943.386117, 11981.98481, 4550.8...  "
      ]
     },
     "execution_count": 8,
     "metadata": {},
     "output_type": "execute_result"
    }
   ],
   "source": [
    "# Cek info lebih detail untuk setiap fitur\n",
    "listItem = []\n",
    "\n",
    "for col in df_model.columns:\n",
    "    listItem.append([col, df_model[col].dtype, df_model[col].isna().sum(), round((df_model[col].isna().sum()/len(df_model[col]))*100, 2),\n",
    "                    df_model[col].nunique(), list(df_model[col].drop_duplicates().values)])\n",
    "\n",
    "df_model_desc = pd.DataFrame(columns=['dataFeatures', 'dataType', 'null', 'nullPct', 'unique', 'uniqueSample'],\n",
    "                     data=listItem)\n",
    "df_model_desc"
   ]
  },
  {
   "cell_type": "code",
   "execution_count": 9,
   "metadata": {},
   "outputs": [
    {
     "data": {
      "image/png": "[encoded data removed]",
      "text/plain": [
       "<Figure size 432x432 with 1 Axes>"
      ]
     },
     "metadata": {
      "needs_background": "light"
     },
     "output_type": "display_data"
    }
   ],
   "source": [
    "# cek missing value dengan heatmap\n",
    "plt.figure(figsize=(6,6))\n",
    "sns.heatmap(df.isnull(), cbar=False)\n",
    "plt.show()"
   ]
  },
  {
   "cell_type": "markdown",
   "metadata": {},
   "source": [
    "Dari info dataset dan heatmap diatas dapat kita lihat bahwa:\n",
    "- Jika ditinjau berdasarkan domain knowledge, semua fitur pada dataset memiliki relevansi dan kepentingan untuk analisis prediktif, oleh karena itu kita tidak perlu melakukan drop kolom manapun.\n",
    "- Tidak terdapat anomali pada unique value kategorik dan numerik, semua unique value sudah memiliki arti yang jelas dan tidak menimbulkan keambiguan.\n",
    "- Tiap baris data di dataset ini tidak memiliki unique id atau primary key, oleh karena itu tidak dapat dilakukan pengecekan duplicate data dan kita asumsikan di dataset ini tidak ada duplicate data.\n",
    "- Tidak terdapat missing value pada dataset."
   ]
  },
  {
   "cell_type": "markdown",
   "metadata": {},
   "source": [
    "### **3.2. Handling Outlier**"
   ]
  },
  {
   "cell_type": "code",
   "execution_count": 10,
   "metadata": {},
   "outputs": [
    {
     "data": {
      "image/png": "[encoded data removed]",
      "text/plain": [
       "<Figure size 432x288 with 1 Axes>"
      ]
     },
     "metadata": {
      "needs_background": "light"
     },
     "output_type": "display_data"
    }
   ],
   "source": [
    "# Plot boxplot untuk mengecek outliers\n",
    "df_model.boxplot(rot=90)\n",
    "plt.show()"
   ]
  },
  {
   "cell_type": "markdown",
   "metadata": {
    "id": "NaL0Q19Gk-BL"
   },
   "source": [
    "Terlihat banyak sekali outliers pada beberapa fitur. Dalam project ini, untuk membuat dataset yang lebih bersih dari outliers, saya akan melakukan beberapa rekayasa data pada fitur-fitur dengan mempertimbangkan kombinasi antara hasil dari metode IQR dan juga domain knowledge. Nantinya, model yang dihasilkan hanya terbatas dapat memprediksi listing baru yang nilai-nilainya pada rentang data berdasarkan 'cleaned dataset' ini saja. Di luar rentang data, hasil prediksi dari model akan menjadi bias."
   ]
  },
  {
   "cell_type": "code",
   "execution_count": 11,
   "metadata": {},
   "outputs": [],
   "source": [
    "# Fungsi untuk mengecek IQR dan limit\n",
    "def limit(data):\n",
    "    q1 = data.quantile(0.25)\n",
    "    q3 = data.quantile(0.75)\n",
    "    iqr = q3 - q1\n",
    "    limit = iqr*1.5\n",
    "    print(f'IQR: {iqr}')\n",
    "\n",
    "    limit_bawah = q1 - limit\n",
    "    limit_atas = q3 + limit\n",
    "    print(f'limit_bawah: {limit_bawah}')\n",
    "    print(f'limit_atas: {limit_atas}')    "
   ]
  },
  {
   "cell_type": "markdown",
   "metadata": {},
   "source": [
    "**Outlier Customer Lifetime Value**"
   ]
  },
  {
   "cell_type": "code",
   "execution_count": 12,
   "metadata": {},
   "outputs": [
    {
     "name": "stdout",
     "output_type": "stream",
     "text": [
      "IQR: 5076.870325\n",
      "limit_bawah: -3660.9609535\n",
      "limit_atas: 16646.5203465\n"
     ]
    }
   ],
   "source": [
    "limit(df_model['Customer Lifetime Value'])"
   ]
  },
  {
   "cell_type": "code",
   "execution_count": 13,
   "metadata": {},
   "outputs": [
    {
     "data": {
      "text/plain": [
       "499"
      ]
     },
     "execution_count": 13,
     "metadata": {},
     "output_type": "execute_result"
    }
   ],
   "source": [
    "df_model[df_model['Customer Lifetime Value'] > 16646.5203465].count()['Customer Lifetime Value']"
   ]
  },
  {
   "cell_type": "code",
   "execution_count": 14,
   "metadata": {},
   "outputs": [
    {
     "data": {
      "image/png": "[encoded data removed]",
      "text/plain": [
       "<Figure size 1512x432 with 2 Axes>"
      ]
     },
     "metadata": {
      "needs_background": "light"
     },
     "output_type": "display_data"
    }
   ],
   "source": [
    "# Melakukan filtering pada data\n",
    "df_model = df_model[(df_model['Customer Lifetime Value'] <= 16646.5203465)]\n",
    "\n",
    "# Plot distribusi data sebelum dan sesudah filtering\n",
    "fig, axes = plt.subplots(1,2, figsize=(21, 6))\n",
    "sns.distplot(df['Customer Lifetime Value'], ax=axes[0])\n",
    "sns.distplot(df_model['Customer Lifetime Value'], ax=axes[1])\n",
    "axes[0].set_xlabel('Customer Lifetime Value')\n",
    "axes[1].set_xlabel('Range Selected Customer Lifetime Value')\n",
    "plt.show()"
   ]
  },
  {
   "cell_type": "markdown",
   "metadata": {},
   "source": [
    "**Outlier Total Claim Amount**"
   ]
  },
  {
   "cell_type": "code",
   "execution_count": 15,
   "metadata": {},
   "outputs": [
    {
     "name": "stdout",
     "output_type": "stream",
     "text": [
      "IQR: 276.25013025\n",
      "limit_bawah: -148.22532562499998\n",
      "limit_atas: 956.775195375\n"
     ]
    }
   ],
   "source": [
    "limit(df_model['Total Claim Amount'])"
   ]
  },
  {
   "cell_type": "code",
   "execution_count": 16,
   "metadata": {},
   "outputs": [
    {
     "data": {
      "text/plain": [
       "197"
      ]
     },
     "execution_count": 16,
     "metadata": {},
     "output_type": "execute_result"
    }
   ],
   "source": [
    "df_model[df_model['Total Claim Amount'] > 974.566507].count()['Total Claim Amount']"
   ]
  },
  {
   "cell_type": "code",
   "execution_count": 17,
   "metadata": {},
   "outputs": [
    {
     "data": {
      "image/png": "[encoded data removed]",
      "text/plain": [
       "<Figure size 1512x432 with 2 Axes>"
      ]
     },
     "metadata": {
      "needs_background": "light"
     },
     "output_type": "display_data"
    }
   ],
   "source": [
    "# Melakukan filtering pada data\n",
    "df_model = df_model[(df_model['Total Claim Amount'] <= 974.566507)]\n",
    "\n",
    "# Plot distribusi data sebelum dan sesudah filtering\n",
    "fig, axes = plt.subplots(1,2, figsize=(21, 6))\n",
    "sns.distplot(df['Total Claim Amount'], ax=axes[0])\n",
    "sns.distplot(df_model['Total Claim Amount'], ax=axes[1])\n",
    "axes[0].set_xlabel('Total Claim Amount')\n",
    "axes[1].set_xlabel('Range Selected Total Claim Amount')\n",
    "plt.show()"
   ]
  },
  {
   "cell_type": "markdown",
   "metadata": {},
   "source": [
    "**Outlier Monthly Premium Auto**"
   ]
  },
  {
   "cell_type": "code",
   "execution_count": 18,
   "metadata": {},
   "outputs": [
    {
     "name": "stdout",
     "output_type": "stream",
     "text": [
      "IQR: 37.0\n",
      "limit_bawah: 12.5\n",
      "limit_atas: 160.5\n"
     ]
    }
   ],
   "source": [
    "limit(df_model['Monthly Premium Auto'])"
   ]
  },
  {
   "cell_type": "code",
   "execution_count": 19,
   "metadata": {},
   "outputs": [
    {
     "data": {
      "text/plain": [
       "102"
      ]
     },
     "execution_count": 19,
     "metadata": {},
     "output_type": "execute_result"
    }
   ],
   "source": [
    "df_model[df_model['Monthly Premium Auto'] > 163.0].count()['Monthly Premium Auto']"
   ]
  },
  {
   "cell_type": "code",
   "execution_count": 20,
   "metadata": {},
   "outputs": [
    {
     "data": {
      "image/png": "[encoded data removed]",
      "text/plain": [
       "<Figure size 1512x432 with 2 Axes>"
      ]
     },
     "metadata": {
      "needs_background": "light"
     },
     "output_type": "display_data"
    }
   ],
   "source": [
    "# Melakukan filtering pada data\n",
    "df_model = df_model[(df_model['Monthly Premium Auto'] <= 163.0)]\n",
    "\n",
    "# Plot distribusi data sebelum dan sesudah filtering\n",
    "fig, axes = plt.subplots(1,2, figsize=(21, 6))\n",
    "sns.distplot(df['Monthly Premium Auto'], ax=axes[0])\n",
    "sns.distplot(df_model['Monthly Premium Auto'], ax=axes[1])\n",
    "axes[0].set_xlabel('Monthly Premium Auto')\n",
    "axes[1].set_xlabel('Range Selected Monthly Premium Auto')\n",
    "plt.show()"
   ]
  },
  {
   "cell_type": "markdown",
   "metadata": {},
   "source": [
    "**Outlier Income**"
   ]
  },
  {
   "cell_type": "code",
   "execution_count": 21,
   "metadata": {},
   "outputs": [
    {
     "data": {
      "text/html": [
       "<div>\n",
       "<style scoped>\n",
       "    .dataframe tbody tr th:only-of-type {\n",
       "        vertical-align: middle;\n",
       "    }\n",
       "\n",
       "    .dataframe tbody tr th {\n",
       "        vertical-align: top;\n",
       "    }\n",
       "\n",
       "    .dataframe thead th {\n",
       "        text-align: right;\n",
       "    }\n",
       "</style>\n",
       "<table border=\"1\" class=\"dataframe\">\n",
       "  <thead>\n",
       "    <tr style=\"text-align: right;\">\n",
       "      <th></th>\n",
       "      <th>Vehicle Class</th>\n",
       "      <th>Coverage</th>\n",
       "      <th>Renew Offer Type</th>\n",
       "      <th>EmploymentStatus</th>\n",
       "      <th>Marital Status</th>\n",
       "      <th>Education</th>\n",
       "      <th>Number of Policies</th>\n",
       "      <th>Monthly Premium Auto</th>\n",
       "      <th>Total Claim Amount</th>\n",
       "      <th>Income</th>\n",
       "      <th>Customer Lifetime Value</th>\n",
       "    </tr>\n",
       "  </thead>\n",
       "  <tbody>\n",
       "    <tr>\n",
       "      <th>16</th>\n",
       "      <td>Four-Door Car</td>\n",
       "      <td>Basic</td>\n",
       "      <td>Offer2</td>\n",
       "      <td>Unemployed</td>\n",
       "      <td>Married</td>\n",
       "      <td>Bachelor</td>\n",
       "      <td>7.0</td>\n",
       "      <td>64.0</td>\n",
       "      <td>307.200000</td>\n",
       "      <td>0.0</td>\n",
       "      <td>4774.751709</td>\n",
       "    </tr>\n",
       "    <tr>\n",
       "      <th>17</th>\n",
       "      <td>SUV</td>\n",
       "      <td>Extended</td>\n",
       "      <td>Offer1</td>\n",
       "      <td>Unemployed</td>\n",
       "      <td>Single</td>\n",
       "      <td>College</td>\n",
       "      <td>1.0</td>\n",
       "      <td>129.0</td>\n",
       "      <td>1178.950186</td>\n",
       "      <td>0.0</td>\n",
       "      <td>4711.845199</td>\n",
       "    </tr>\n",
       "    <tr>\n",
       "      <th>21</th>\n",
       "      <td>SUV</td>\n",
       "      <td>Extended</td>\n",
       "      <td>Offer4</td>\n",
       "      <td>Unemployed</td>\n",
       "      <td>Single</td>\n",
       "      <td>Bachelor</td>\n",
       "      <td>1.0</td>\n",
       "      <td>126.0</td>\n",
       "      <td>907.200000</td>\n",
       "      <td>0.0</td>\n",
       "      <td>4531.675269</td>\n",
       "    </tr>\n",
       "    <tr>\n",
       "      <th>24</th>\n",
       "      <td>Two-Door Car</td>\n",
       "      <td>Extended</td>\n",
       "      <td>Offer1</td>\n",
       "      <td>Unemployed</td>\n",
       "      <td>Divorced</td>\n",
       "      <td>Bachelor</td>\n",
       "      <td>5.0</td>\n",
       "      <td>95.0</td>\n",
       "      <td>456.000000</td>\n",
       "      <td>0.0</td>\n",
       "      <td>6846.150323</td>\n",
       "    </tr>\n",
       "    <tr>\n",
       "      <th>26</th>\n",
       "      <td>Four-Door Car</td>\n",
       "      <td>Basic</td>\n",
       "      <td>Offer4</td>\n",
       "      <td>Unemployed</td>\n",
       "      <td>Single</td>\n",
       "      <td>Bachelor</td>\n",
       "      <td>1.0</td>\n",
       "      <td>66.0</td>\n",
       "      <td>475.200000</td>\n",
       "      <td>0.0</td>\n",
       "      <td>2239.647297</td>\n",
       "    </tr>\n",
       "  </tbody>\n",
       "</table>\n",
       "</div>"
      ],
      "text/plain": [
       "    Vehicle Class  Coverage Renew Offer Type EmploymentStatus Marital Status  \\\n",
       "16  Four-Door Car     Basic           Offer2       Unemployed        Married   \n",
       "17            SUV  Extended           Offer1       Unemployed         Single   \n",
       "21            SUV  Extended           Offer4       Unemployed         Single   \n",
       "24   Two-Door Car  Extended           Offer1       Unemployed       Divorced   \n",
       "26  Four-Door Car     Basic           Offer4       Unemployed         Single   \n",
       "\n",
       "   Education  Number of Policies  Monthly Premium Auto  Total Claim Amount  \\\n",
       "16  Bachelor                 7.0                  64.0          307.200000   \n",
       "17   College                 1.0                 129.0         1178.950186   \n",
       "21  Bachelor                 1.0                 126.0          907.200000   \n",
       "24  Bachelor                 5.0                  95.0          456.000000   \n",
       "26  Bachelor                 1.0                  66.0          475.200000   \n",
       "\n",
       "    Income  Customer Lifetime Value  \n",
       "16     0.0              4774.751709  \n",
       "17     0.0              4711.845199  \n",
       "21     0.0              4531.675269  \n",
       "24     0.0              6846.150323  \n",
       "26     0.0              2239.647297  "
      ]
     },
     "execution_count": 21,
     "metadata": {},
     "output_type": "execute_result"
    }
   ],
   "source": [
    "df[df[\"Income\"]==0].head()"
   ]
  },
  {
   "cell_type": "markdown",
   "metadata": {},
   "source": [
    "Terdapat customer dengan income 0 dan setelah dicek ternyata mereka adalah customer dengan employment status unemployed, hal ini wajar sehingga data tersebut bukan merupakan outlier"
   ]
  },
  {
   "cell_type": "markdown",
   "metadata": {},
   "source": [
    "### **3.3. Cleaned Dataset**"
   ]
  },
  {
   "cell_type": "code",
   "execution_count": 22,
   "metadata": {},
   "outputs": [
    {
     "name": "stdout",
     "output_type": "stream",
     "text": [
      "<class 'pandas.core.frame.DataFrame'>\n",
      "Int64Index: 4871 entries, 0 to 5666\n",
      "Data columns (total 11 columns):\n",
      " #   Column                   Non-Null Count  Dtype  \n",
      "---  ------                   --------------  -----  \n",
      " 0   Vehicle Class            4871 non-null   object \n",
      " 1   Coverage                 4871 non-null   object \n",
      " 2   Renew Offer Type         4871 non-null   object \n",
      " 3   EmploymentStatus         4871 non-null   object \n",
      " 4   Marital Status           4871 non-null   object \n",
      " 5   Education                4871 non-null   object \n",
      " 6   Number of Policies       4871 non-null   float64\n",
      " 7   Monthly Premium Auto     4871 non-null   float64\n",
      " 8   Total Claim Amount       4871 non-null   float64\n",
      " 9   Income                   4871 non-null   float64\n",
      " 10  Customer Lifetime Value  4871 non-null   float64\n",
      "dtypes: float64(5), object(6)\n",
      "memory usage: 456.7+ KB\n"
     ]
    }
   ],
   "source": [
    "df_model.info()"
   ]
  },
  {
   "cell_type": "code",
   "execution_count": 23,
   "metadata": {},
   "outputs": [
    {
     "data": {
      "image/png": "[encoded data removed]",
      "text/plain": [
       "<Figure size 432x288 with 1 Axes>"
      ]
     },
     "metadata": {
      "needs_background": "light"
     },
     "output_type": "display_data"
    }
   ],
   "source": [
    "df_model.boxplot(rot=90)\n",
    "plt.show()"
   ]
  },
  {
   "cell_type": "markdown",
   "metadata": {
    "id": "5COvjV0Ik-BX"
   },
   "source": [
    "Setelah proses cleaning tersisa 4871 baris data yang akan digunakan untuk pemodelan dari total baris data awal sebanyak 5669. Sekitar 14% data sudah tereliminasi sesuai dengan asumsi yang disampaikan di proses-proses sebelumnya."
   ]
  },
  {
   "cell_type": "markdown",
   "metadata": {},
   "source": [
    "## **4. Modeling**\n",
    "---"
   ]
  },
  {
   "cell_type": "code",
   "execution_count": 24,
   "metadata": {},
   "outputs": [],
   "source": [
    "# Import library untuk modeling\n",
    "\n",
    "from sklearn.model_selection import train_test_split, cross_val_score, RandomizedSearchCV, GridSearchCV, KFold\n",
    "\n",
    "import category_encoders as ce\n",
    "from category_encoders import BinaryEncoder, OrdinalEncoder\n",
    "from sklearn.preprocessing import OneHotEncoder\n",
    "from sklearn.compose import ColumnTransformer\n",
    "from sklearn.pipeline import Pipeline\n",
    "\n",
    "from sklearn.linear_model import LinearRegression\n",
    "from sklearn.neighbors import KNeighborsRegressor\n",
    "from sklearn.tree import DecisionTreeRegressor\n",
    "from sklearn.ensemble import RandomForestRegressor\n",
    "from xgboost.sklearn import XGBRegressor\n",
    "from sklearn.compose import TransformedTargetRegressor\n",
    "\n",
    "from sklearn.preprocessing import StandardScaler,MinMaxScaler,RobustScaler\n",
    "\n",
    "from sklearn.metrics import r2_score, mean_squared_error, mean_absolute_error, mean_absolute_percentage_error, mean_squared_log_error"
   ]
  },
  {
   "cell_type": "markdown",
   "metadata": {
    "id": "WhNDmukYk-BX"
   },
   "source": [
    "### **4.1. Encoding**"
   ]
  },
  {
   "cell_type": "markdown",
   "metadata": {
    "id": "3QHblkKak-BY"
   },
   "source": [
    "Agar dapat menggunakan semua fitur yang dipilih, maka fitur-fitur kategorikal harus diubah menjadi fitur numerikal. Kita dapat menggunakan ColumnTransformer untuk dapat mengubah tipe datanya, yang mana nanti dapat diaplikasikan pada pipeline model."
   ]
  },
  {
   "cell_type": "code",
   "execution_count": 25,
   "metadata": {
    "id": "UN7TktS7k-BY"
   },
   "outputs": [],
   "source": [
    "# Mengubah fitur kategorikal menjadi numerikal\n",
    "transformer = ColumnTransformer([\n",
    "    ('One Hot', OneHotEncoder(drop='first'), ['Vehicle Class', 'Coverage', 'Renew Offer Type', 'EmploymentStatus', 'Marital Status']),\n",
    "    ('Ordinal', ce.OrdinalEncoder(), ['Education'])\n",
    "], remainder='passthrough')"
   ]
  },
  {
   "cell_type": "markdown",
   "metadata": {},
   "source": [
    "Fitur 'Vehicle Class', 'Coverage', 'Renew Offer Type', 'EmploymentStatus', 'Marital Status' menggunakan OneHotEncoder karena jumlah katergori yang tidak banyak dan tidak memiliki hirarki atau tingkatan.\n",
    "\n",
    "Fitur 'Education' menggunakan OrdinalEncoder karena kategori ini memiliki hirarki atau tingkatan."
   ]
  },
  {
   "cell_type": "code",
   "execution_count": 26,
   "metadata": {},
   "outputs": [
    {
     "data": {
      "text/html": [
       "<div>\n",
       "<style scoped>\n",
       "    .dataframe tbody tr th:only-of-type {\n",
       "        vertical-align: middle;\n",
       "    }\n",
       "\n",
       "    .dataframe tbody tr th {\n",
       "        vertical-align: top;\n",
       "    }\n",
       "\n",
       "    .dataframe thead th {\n",
       "        text-align: right;\n",
       "    }\n",
       "</style>\n",
       "<table border=\"1\" class=\"dataframe\">\n",
       "  <thead>\n",
       "    <tr style=\"text-align: right;\">\n",
       "      <th></th>\n",
       "      <th>Vehicle Class_SUV</th>\n",
       "      <th>Vehicle Class_Sports Car</th>\n",
       "      <th>Vehicle Class_Two-Door Car</th>\n",
       "      <th>Coverage_Extended</th>\n",
       "      <th>Coverage_Premium</th>\n",
       "      <th>Renew Offer Type_Offer2</th>\n",
       "      <th>Renew Offer Type_Offer3</th>\n",
       "      <th>Renew Offer Type_Offer4</th>\n",
       "      <th>EmploymentStatus_Employed</th>\n",
       "      <th>EmploymentStatus_Medical Leave</th>\n",
       "      <th>EmploymentStatus_Retired</th>\n",
       "      <th>EmploymentStatus_Unemployed</th>\n",
       "      <th>Marital Status_Married</th>\n",
       "      <th>Marital Status_Single</th>\n",
       "      <th>Education</th>\n",
       "      <th>Number of Policies</th>\n",
       "      <th>Monthly Premium Auto</th>\n",
       "      <th>Total Claim Amount</th>\n",
       "      <th>Income</th>\n",
       "      <th>Customer Lifetime Value</th>\n",
       "    </tr>\n",
       "  </thead>\n",
       "  <tbody>\n",
       "    <tr>\n",
       "      <th>0</th>\n",
       "      <td>0.0</td>\n",
       "      <td>0.0</td>\n",
       "      <td>0.0</td>\n",
       "      <td>1.0</td>\n",
       "      <td>0.0</td>\n",
       "      <td>0.0</td>\n",
       "      <td>0.0</td>\n",
       "      <td>0.0</td>\n",
       "      <td>0.0</td>\n",
       "      <td>0.0</td>\n",
       "      <td>1.0</td>\n",
       "      <td>0.0</td>\n",
       "      <td>0.0</td>\n",
       "      <td>0.0</td>\n",
       "      <td>1.0</td>\n",
       "      <td>2.0</td>\n",
       "      <td>90.0</td>\n",
       "      <td>571.479602</td>\n",
       "      <td>11828.0</td>\n",
       "      <td>10083.486880</td>\n",
       "    </tr>\n",
       "    <tr>\n",
       "      <th>1</th>\n",
       "      <td>0.0</td>\n",
       "      <td>0.0</td>\n",
       "      <td>0.0</td>\n",
       "      <td>0.0</td>\n",
       "      <td>0.0</td>\n",
       "      <td>0.0</td>\n",
       "      <td>0.0</td>\n",
       "      <td>0.0</td>\n",
       "      <td>1.0</td>\n",
       "      <td>0.0</td>\n",
       "      <td>0.0</td>\n",
       "      <td>0.0</td>\n",
       "      <td>1.0</td>\n",
       "      <td>0.0</td>\n",
       "      <td>2.0</td>\n",
       "      <td>6.0</td>\n",
       "      <td>62.0</td>\n",
       "      <td>114.514440</td>\n",
       "      <td>44762.0</td>\n",
       "      <td>4943.386117</td>\n",
       "    </tr>\n",
       "    <tr>\n",
       "      <th>2</th>\n",
       "      <td>0.0</td>\n",
       "      <td>0.0</td>\n",
       "      <td>1.0</td>\n",
       "      <td>0.0</td>\n",
       "      <td>0.0</td>\n",
       "      <td>0.0</td>\n",
       "      <td>0.0</td>\n",
       "      <td>0.0</td>\n",
       "      <td>0.0</td>\n",
       "      <td>0.0</td>\n",
       "      <td>1.0</td>\n",
       "      <td>0.0</td>\n",
       "      <td>1.0</td>\n",
       "      <td>0.0</td>\n",
       "      <td>3.0</td>\n",
       "      <td>2.0</td>\n",
       "      <td>62.0</td>\n",
       "      <td>257.248789</td>\n",
       "      <td>21514.0</td>\n",
       "      <td>11981.984810</td>\n",
       "    </tr>\n",
       "    <tr>\n",
       "      <th>3</th>\n",
       "      <td>0.0</td>\n",
       "      <td>0.0</td>\n",
       "      <td>0.0</td>\n",
       "      <td>0.0</td>\n",
       "      <td>1.0</td>\n",
       "      <td>0.0</td>\n",
       "      <td>1.0</td>\n",
       "      <td>0.0</td>\n",
       "      <td>0.0</td>\n",
       "      <td>0.0</td>\n",
       "      <td>0.0</td>\n",
       "      <td>0.0</td>\n",
       "      <td>1.0</td>\n",
       "      <td>0.0</td>\n",
       "      <td>1.0</td>\n",
       "      <td>1.0</td>\n",
       "      <td>116.0</td>\n",
       "      <td>556.800000</td>\n",
       "      <td>17913.0</td>\n",
       "      <td>4550.856045</td>\n",
       "    </tr>\n",
       "    <tr>\n",
       "      <th>4</th>\n",
       "      <td>0.0</td>\n",
       "      <td>0.0</td>\n",
       "      <td>1.0</td>\n",
       "      <td>0.0</td>\n",
       "      <td>0.0</td>\n",
       "      <td>0.0</td>\n",
       "      <td>1.0</td>\n",
       "      <td>0.0</td>\n",
       "      <td>0.0</td>\n",
       "      <td>1.0</td>\n",
       "      <td>0.0</td>\n",
       "      <td>0.0</td>\n",
       "      <td>1.0</td>\n",
       "      <td>0.0</td>\n",
       "      <td>1.0</td>\n",
       "      <td>1.0</td>\n",
       "      <td>62.0</td>\n",
       "      <td>355.820799</td>\n",
       "      <td>19030.0</td>\n",
       "      <td>2372.155492</td>\n",
       "    </tr>\n",
       "  </tbody>\n",
       "</table>\n",
       "</div>"
      ],
      "text/plain": [
       "   Vehicle Class_SUV  Vehicle Class_Sports Car  Vehicle Class_Two-Door Car  \\\n",
       "0                0.0                       0.0                         0.0   \n",
       "1                0.0                       0.0                         0.0   \n",
       "2                0.0                       0.0                         1.0   \n",
       "3                0.0                       0.0                         0.0   \n",
       "4                0.0                       0.0                         1.0   \n",
       "\n",
       "   Coverage_Extended  Coverage_Premium  Renew Offer Type_Offer2  \\\n",
       "0                1.0               0.0                      0.0   \n",
       "1                0.0               0.0                      0.0   \n",
       "2                0.0               0.0                      0.0   \n",
       "3                0.0               1.0                      0.0   \n",
       "4                0.0               0.0                      0.0   \n",
       "\n",
       "   Renew Offer Type_Offer3  Renew Offer Type_Offer4  \\\n",
       "0                      0.0                      0.0   \n",
       "1                      0.0                      0.0   \n",
       "2                      0.0                      0.0   \n",
       "3                      1.0                      0.0   \n",
       "4                      1.0                      0.0   \n",
       "\n",
       "   EmploymentStatus_Employed  EmploymentStatus_Medical Leave  \\\n",
       "0                        0.0                             0.0   \n",
       "1                        1.0                             0.0   \n",
       "2                        0.0                             0.0   \n",
       "3                        0.0                             0.0   \n",
       "4                        0.0                             1.0   \n",
       "\n",
       "   EmploymentStatus_Retired  EmploymentStatus_Unemployed  \\\n",
       "0                       1.0                          0.0   \n",
       "1                       0.0                          0.0   \n",
       "2                       1.0                          0.0   \n",
       "3                       0.0                          0.0   \n",
       "4                       0.0                          0.0   \n",
       "\n",
       "   Marital Status_Married  Marital Status_Single  Education  \\\n",
       "0                     0.0                    0.0        1.0   \n",
       "1                     1.0                    0.0        2.0   \n",
       "2                     1.0                    0.0        3.0   \n",
       "3                     1.0                    0.0        1.0   \n",
       "4                     1.0                    0.0        1.0   \n",
       "\n",
       "   Number of Policies  Monthly Premium Auto  Total Claim Amount   Income  \\\n",
       "0                 2.0                  90.0          571.479602  11828.0   \n",
       "1                 6.0                  62.0          114.514440  44762.0   \n",
       "2                 2.0                  62.0          257.248789  21514.0   \n",
       "3                 1.0                 116.0          556.800000  17913.0   \n",
       "4                 1.0                  62.0          355.820799  19030.0   \n",
       "\n",
       "   Customer Lifetime Value  \n",
       "0             10083.486880  \n",
       "1              4943.386117  \n",
       "2             11981.984810  \n",
       "3              4550.856045  \n",
       "4              2372.155492  "
      ]
     },
     "execution_count": 26,
     "metadata": {},
     "output_type": "execute_result"
    }
   ],
   "source": [
    "# cek hasil encodng\n",
    "transformer.fit(df_model)\n",
    "\n",
    "result = transformer.transform(df_model)\n",
    "\n",
    "columns_names = list(transformer.transformers_[0][1].get_feature_names_out()) + transformer.transformers_[1][1].get_feature_names() + ['Number of Policies', 'Monthly Premium Auto', 'Total Claim Amount', 'Income', 'Customer Lifetime Value']\n",
    "\n",
    "result_df = pd.DataFrame(result, columns=columns_names)\n",
    "result_df.head()"
   ]
  },
  {
   "cell_type": "markdown",
   "metadata": {
    "id": "WhNDmukYk-BX"
   },
   "source": [
    "### **4.2. Data Splitting**"
   ]
  },
  {
   "cell_type": "code",
   "execution_count": 27,
   "metadata": {},
   "outputs": [],
   "source": [
    "# Memisahkan data independen variabel dengan target\n",
    "X = df_model.drop(['Customer Lifetime Value'], axis=1)\n",
    "y = df_model['Customer Lifetime Value']"
   ]
  },
  {
   "cell_type": "markdown",
   "metadata": {
    "id": "u6eU0sPrk-BY"
   },
   "source": [
    "**Train and Test Splitting**"
   ]
  },
  {
   "cell_type": "code",
   "execution_count": 28,
   "metadata": {
    "id": "1zuWGtbYk-BZ"
   },
   "outputs": [],
   "source": [
    "# Splitting data training dan test dengan proporsi 70:30\n",
    "X_train, X_test, y_train, y_test= train_test_split(\n",
    "    X,\n",
    "    y,  \n",
    "    test_size=0.3,\n",
    "    random_state=1)"
   ]
  },
  {
   "cell_type": "markdown",
   "metadata": {
    "id": "ndjW0HTAk-BZ"
   },
   "source": [
    "### **4.3. Choose a Benchmark Model**"
   ]
  },
  {
   "cell_type": "code",
   "execution_count": 29,
   "metadata": {
    "id": "F5Oofy6vk-BZ",
    "outputId": "95f77f4c-faf6-4a40-9064-fa922b082604"
   },
   "outputs": [
    {
     "name": "stdout",
     "output_type": "stream",
     "text": [
      "[-2872.67171324 -3034.56091062 -2855.16528536 -2648.39435005\n",
      " -3000.80868093] TransformedTargetRegressor(func=<ufunc 'log'>, inverse_func=<ufunc 'exp'>,\n",
      "                           regressor=LinearRegression())\n",
      "[-1992.8120628  -2121.77365119 -2007.97919938 -1898.54552034\n",
      " -2139.37743651] TransformedTargetRegressor(func=<ufunc 'log'>, inverse_func=<ufunc 'exp'>,\n",
      "                           regressor=LinearRegression())\n",
      "[-0.32909784 -0.33766606 -0.31615088 -0.31916539 -0.34600274] TransformedTargetRegressor(func=<ufunc 'log'>, inverse_func=<ufunc 'exp'>,\n",
      "                           regressor=LinearRegression())\n",
      "[0.21198789 0.17631771 0.16922882 0.19099664 0.1812414 ] TransformedTargetRegressor(func=<ufunc 'log'>, inverse_func=<ufunc 'exp'>,\n",
      "                           regressor=LinearRegression())\n",
      "[-2885.38228654 -2942.60735582 -2765.04430114 -2571.14530369\n",
      " -2901.34974389] TransformedTargetRegressor(func=<ufunc 'log'>, inverse_func=<ufunc 'exp'>,\n",
      "                           regressor=KNeighborsRegressor())\n",
      "[-1928.08677225 -1964.71064715 -1828.35513264 -1750.66516277\n",
      " -1933.42278845] TransformedTargetRegressor(func=<ufunc 'log'>, inverse_func=<ufunc 'exp'>,\n",
      "                           regressor=KNeighborsRegressor())\n",
      "[-0.33740908 -0.32721495 -0.30127796 -0.3125301  -0.34740241] TransformedTargetRegressor(func=<ufunc 'log'>, inverse_func=<ufunc 'exp'>,\n",
      "                           regressor=KNeighborsRegressor())\n",
      "[0.20499911 0.22547999 0.22084637 0.23750279 0.23461592] TransformedTargetRegressor(func=<ufunc 'log'>, inverse_func=<ufunc 'exp'>,\n",
      "                           regressor=KNeighborsRegressor())\n",
      "[-1091.52473263 -1198.45026612 -1262.69797084 -1225.94668382\n",
      " -1180.7362749 ] TransformedTargetRegressor(func=<ufunc 'log'>, inverse_func=<ufunc 'exp'>,\n",
      "                           regressor=DecisionTreeRegressor(random_state=1))\n",
      "[-349.49604813 -403.38658504 -415.46594    -384.21052887 -370.54305937] TransformedTargetRegressor(func=<ufunc 'log'>, inverse_func=<ufunc 'exp'>,\n",
      "                           regressor=DecisionTreeRegressor(random_state=1))\n",
      "[-0.04157983 -0.04911288 -0.05392515 -0.05064524 -0.04480253] TransformedTargetRegressor(func=<ufunc 'log'>, inverse_func=<ufunc 'exp'>,\n",
      "                           regressor=DecisionTreeRegressor(random_state=1))\n",
      "[0.88622992 0.87152813 0.83751328 0.82664827 0.87323917] TransformedTargetRegressor(func=<ufunc 'log'>, inverse_func=<ufunc 'exp'>,\n",
      "                           regressor=DecisionTreeRegressor(random_state=1))\n",
      "[ -910.57834162  -986.4612761   -797.75370614  -806.62681197\n",
      " -1003.62251501] TransformedTargetRegressor(func=<ufunc 'log'>, inverse_func=<ufunc 'exp'>,\n",
      "                           regressor=XGBRegressor(base_score=None, booster=None,\n",
      "                                                  callbacks=None,\n",
      "                                                  colsample_bylevel=None,\n",
      "                                                  colsample_bynode=None,\n",
      "                                                  colsample_bytree=None,\n",
      "                                                  early_stopping_rounds=None,\n",
      "                                                  enable_categorical=False,\n",
      "                                                  eval_metric=None, gamma=None,\n",
      "                                                  gpu_id=None, grow_policy=None,\n",
      "                                                  importance_type=None,\n",
      "                                                  interaction_constraints=None,\n",
      "                                                  learning_rate=None,\n",
      "                                                  max_bin=None,\n",
      "                                                  max_cat_to_onehot=None,\n",
      "                                                  max_delta_step=None,\n",
      "                                                  max_depth=None,\n",
      "                                                  max_leaves=None,\n",
      "                                                  min_child_weight=None,\n",
      "                                                  missing=nan,\n",
      "                                                  monotone_constraints=None,\n",
      "                                                  n_estimators=100, n_jobs=None,\n",
      "                                                  num_parallel_tree=None,\n",
      "                                                  predictor=None,\n",
      "                                                  random_state=1,\n",
      "                                                  reg_alpha=None,\n",
      "                                                  reg_lambda=None, ...))\n",
      "[-325.29797758 -363.30730457 -326.12774169 -323.70395767 -345.27771607] TransformedTargetRegressor(func=<ufunc 'log'>, inverse_func=<ufunc 'exp'>,\n",
      "                           regressor=XGBRegressor(base_score=None, booster=None,\n",
      "                                                  callbacks=None,\n",
      "                                                  colsample_bylevel=None,\n",
      "                                                  colsample_bynode=None,\n",
      "                                                  colsample_bytree=None,\n",
      "                                                  early_stopping_rounds=None,\n",
      "                                                  enable_categorical=False,\n",
      "                                                  eval_metric=None, gamma=None,\n",
      "                                                  gpu_id=None, grow_policy=None,\n",
      "                                                  importance_type=None,\n",
      "                                                  interaction_constraints=None,\n",
      "                                                  learning_rate=None,\n",
      "                                                  max_bin=None,\n",
      "                                                  max_cat_to_onehot=None,\n",
      "                                                  max_delta_step=None,\n",
      "                                                  max_depth=None,\n",
      "                                                  max_leaves=None,\n",
      "                                                  min_child_weight=None,\n",
      "                                                  missing=nan,\n",
      "                                                  monotone_constraints=None,\n",
      "                                                  n_estimators=100, n_jobs=None,\n",
      "                                                  num_parallel_tree=None,\n",
      "                                                  predictor=None,\n",
      "                                                  random_state=1,\n",
      "                                                  reg_alpha=None,\n",
      "                                                  reg_lambda=None, ...))\n",
      "[-0.04131501 -0.0438702  -0.04327303 -0.04454475 -0.04294519] TransformedTargetRegressor(func=<ufunc 'log'>, inverse_func=<ufunc 'exp'>,\n",
      "                           regressor=XGBRegressor(base_score=None, booster=None,\n",
      "                                                  callbacks=None,\n",
      "                                                  colsample_bylevel=None,\n",
      "                                                  colsample_bynode=None,\n",
      "                                                  colsample_bytree=None,\n",
      "                                                  early_stopping_rounds=None,\n",
      "                                                  enable_categorical=False,\n",
      "                                                  eval_metric=None, gamma=None,\n",
      "                                                  gpu_id=None, grow_policy=None,\n",
      "                                                  importance_type=None,\n",
      "                                                  interaction_constraints=None,\n",
      "                                                  learning_rate=None,\n",
      "                                                  max_bin=None,\n",
      "                                                  max_cat_to_onehot=None,\n",
      "                                                  max_delta_step=None,\n",
      "                                                  max_depth=None,\n",
      "                                                  max_leaves=None,\n",
      "                                                  min_child_weight=None,\n",
      "                                                  missing=nan,\n",
      "                                                  monotone_constraints=None,\n",
      "                                                  n_estimators=100, n_jobs=None,\n",
      "                                                  num_parallel_tree=None,\n",
      "                                                  predictor=None,\n",
      "                                                  random_state=1,\n",
      "                                                  reg_alpha=None,\n",
      "                                                  reg_lambda=None, ...))\n",
      "[0.92082364 0.91295815 0.93514304 0.92495352 0.90841591] TransformedTargetRegressor(func=<ufunc 'log'>, inverse_func=<ufunc 'exp'>,\n",
      "                           regressor=XGBRegressor(base_score=None, booster=None,\n",
      "                                                  callbacks=None,\n",
      "                                                  colsample_bylevel=None,\n",
      "                                                  colsample_bynode=None,\n",
      "                                                  colsample_bytree=None,\n",
      "                                                  early_stopping_rounds=None,\n",
      "                                                  enable_categorical=False,\n",
      "                                                  eval_metric=None, gamma=None,\n",
      "                                                  gpu_id=None, grow_policy=None,\n",
      "                                                  importance_type=None,\n",
      "                                                  interaction_constraints=None,\n",
      "                                                  learning_rate=None,\n",
      "                                                  max_bin=None,\n",
      "                                                  max_cat_to_onehot=None,\n",
      "                                                  max_delta_step=None,\n",
      "                                                  max_depth=None,\n",
      "                                                  max_leaves=None,\n",
      "                                                  min_child_weight=None,\n",
      "                                                  missing=nan,\n",
      "                                                  monotone_constraints=None,\n",
      "                                                  n_estimators=100, n_jobs=None,\n",
      "                                                  num_parallel_tree=None,\n",
      "                                                  predictor=None,\n",
      "                                                  random_state=1,\n",
      "                                                  reg_alpha=None,\n",
      "                                                  reg_lambda=None, ...))\n"
     ]
    }
   ],
   "source": [
    "# Define algoritma yang digunakan\n",
    "lr = LinearRegression()\n",
    "knn = KNeighborsRegressor()\n",
    "dt = DecisionTreeRegressor(random_state=1)\n",
    "xgb = XGBRegressor(random_state=1)\n",
    "\n",
    "# Pemodelan dilakukan dalam skala logaritmik, namun kemudian di-inverse kembali untuk interpretasi\n",
    "log_lr = TransformedTargetRegressor(lr, func=np.log, inverse_func=np.exp)\n",
    "log_knn = TransformedTargetRegressor(knn, func=np.log, inverse_func=np.exp)\n",
    "log_dt = TransformedTargetRegressor(dt, func=np.log, inverse_func=np.exp)\n",
    "log_xgb = TransformedTargetRegressor(xgb, func=np.log, inverse_func=np.exp)\n",
    "\n",
    "# Scaling data\n",
    "scaler = StandardScaler()\n",
    "\n",
    "# Kandidat algoritma\n",
    "models = [log_lr, log_knn, log_dt, log_xgb]\n",
    "\n",
    "score_rmse = []\n",
    "nilai_mean_rmse = []\n",
    "nilai_std_rmse = []\n",
    "\n",
    "score_mae = []\n",
    "nilai_mean_mae = []\n",
    "nilai_std_mae = []\n",
    "\n",
    "score_mape = []\n",
    "nilai_mean_mape = []\n",
    "nilai_std_mape = []\n",
    "\n",
    "score_msle = []\n",
    "nilai_mean_msle = []\n",
    "nilai_std_msle = []\n",
    "\n",
    "score_r2 = []\n",
    "nilai_mean_r2 = []\n",
    "nilai_std_r2 = []\n",
    "\n",
    "# Mencari algoritma terbaik berdasarkan metrik\n",
    "for i in models:\n",
    "    \n",
    "    crossval = KFold(n_splits=5, shuffle=True, random_state=1)\n",
    "\n",
    "    estimator = Pipeline([\n",
    "        ('preprocessing', transformer),\n",
    "        ('scaler', scaler),\n",
    "        ('model', i)\n",
    "    ])\n",
    "\n",
    "    # RMSE\n",
    "    model_cv_rmse = cross_val_score(\n",
    "        estimator, \n",
    "        X_train, \n",
    "        y_train, \n",
    "        cv=crossval, \n",
    "        scoring='neg_root_mean_squared_error', \n",
    "        error_score='raise'\n",
    "        )\n",
    "\n",
    "    print(model_cv_rmse, i)\n",
    "\n",
    "    score_rmse.append(model_cv_rmse)\n",
    "    nilai_mean_rmse.append(model_cv_rmse.mean())\n",
    "    nilai_std_rmse.append(model_cv_rmse.std())\n",
    "\n",
    "    # MAE\n",
    "    model_cv_mae = cross_val_score(\n",
    "        estimator, \n",
    "        X_train, \n",
    "        y_train, \n",
    "        cv=crossval, \n",
    "        scoring='neg_mean_absolute_error', \n",
    "        error_score='raise'\n",
    "        )\n",
    "\n",
    "    print(model_cv_mae, i)\n",
    "\n",
    "    score_mae.append(model_cv_mae)\n",
    "    nilai_mean_mae.append(model_cv_mae.mean())\n",
    "    nilai_std_mae.append(model_cv_mae.std())\n",
    "\n",
    "    # MAPE\n",
    "    model_cv_mape = cross_val_score(\n",
    "        estimator, \n",
    "        X_train, \n",
    "        y_train, \n",
    "        cv=crossval, \n",
    "        scoring='neg_mean_absolute_percentage_error', \n",
    "        error_score='raise'\n",
    "        )\n",
    "\n",
    "    print(model_cv_mape, i)\n",
    "\n",
    "    score_mape.append(model_cv_mape)\n",
    "    nilai_mean_mape.append(model_cv_mape.mean())\n",
    "    nilai_std_mape.append(model_cv_mape.std())\n",
    "\n",
    "\n",
    "    # R-Square\n",
    "    model_cv_r2 = cross_val_score(\n",
    "        estimator, \n",
    "        X_train, \n",
    "        y_train, \n",
    "        cv=crossval, \n",
    "        scoring='r2'\n",
    "        )\n",
    "\n",
    "    print(model_cv_r2, i)\n",
    "    \n",
    "    nilai_mean_r2.append(model_cv_r2.mean())\n",
    "    nilai_std_r2.append(model_cv_r2.std())\n",
    "\n",
    "\n"
   ]
  },
  {
   "cell_type": "code",
   "execution_count": 30,
   "metadata": {
    "id": "MHbwc3DSk-BZ",
    "outputId": "9a8952c5-2fef-4f8a-86d4-6933971758a5"
   },
   "outputs": [
    {
     "data": {
      "text/html": [
       "<div>\n",
       "<style scoped>\n",
       "    .dataframe tbody tr th:only-of-type {\n",
       "        vertical-align: middle;\n",
       "    }\n",
       "\n",
       "    .dataframe tbody tr th {\n",
       "        vertical-align: top;\n",
       "    }\n",
       "\n",
       "    .dataframe thead th {\n",
       "        text-align: right;\n",
       "    }\n",
       "</style>\n",
       "<table border=\"1\" class=\"dataframe\">\n",
       "  <thead>\n",
       "    <tr style=\"text-align: right;\">\n",
       "      <th></th>\n",
       "      <th>Model</th>\n",
       "      <th>Mean_RMSE</th>\n",
       "      <th>Std_RMSE</th>\n",
       "      <th>Mean_MAE</th>\n",
       "      <th>Std_MAE</th>\n",
       "      <th>Mean_MAPE</th>\n",
       "      <th>Std_MAPE</th>\n",
       "      <th>Mean_R2</th>\n",
       "      <th>Std_R2</th>\n",
       "    </tr>\n",
       "  </thead>\n",
       "  <tbody>\n",
       "    <tr>\n",
       "      <th>0</th>\n",
       "      <td>Linear Regression</td>\n",
       "      <td>-2882.320188</td>\n",
       "      <td>136.211997</td>\n",
       "      <td>-2032.097574</td>\n",
       "      <td>88.895406</td>\n",
       "      <td>-0.329617</td>\n",
       "      <td>0.011172</td>\n",
       "      <td>0.185954</td>\n",
       "      <td>0.014819</td>\n",
       "    </tr>\n",
       "    <tr>\n",
       "      <th>1</th>\n",
       "      <td>KNN Regressor</td>\n",
       "      <td>-2813.105798</td>\n",
       "      <td>134.637533</td>\n",
       "      <td>-1881.048101</td>\n",
       "      <td>79.663575</td>\n",
       "      <td>-0.325167</td>\n",
       "      <td>0.016606</td>\n",
       "      <td>0.224689</td>\n",
       "      <td>0.011540</td>\n",
       "    </tr>\n",
       "    <tr>\n",
       "      <th>2</th>\n",
       "      <td>DecisionTree Regressor</td>\n",
       "      <td>-1191.871186</td>\n",
       "      <td>57.296168</td>\n",
       "      <td>-384.620432</td>\n",
       "      <td>23.390924</td>\n",
       "      <td>-0.048013</td>\n",
       "      <td>0.004354</td>\n",
       "      <td>0.859032</td>\n",
       "      <td>0.022845</td>\n",
       "    </tr>\n",
       "    <tr>\n",
       "      <th>3</th>\n",
       "      <td>XGBoost Regressor</td>\n",
       "      <td>-901.008530</td>\n",
       "      <td>86.594284</td>\n",
       "      <td>-336.742940</td>\n",
       "      <td>15.441454</td>\n",
       "      <td>-0.043190</td>\n",
       "      <td>0.001084</td>\n",
       "      <td>0.920459</td>\n",
       "      <td>0.009352</td>\n",
       "    </tr>\n",
       "  </tbody>\n",
       "</table>\n",
       "</div>"
      ],
      "text/plain": [
       "                    Model    Mean_RMSE    Std_RMSE     Mean_MAE    Std_MAE  \\\n",
       "0       Linear Regression -2882.320188  136.211997 -2032.097574  88.895406   \n",
       "1           KNN Regressor -2813.105798  134.637533 -1881.048101  79.663575   \n",
       "2  DecisionTree Regressor -1191.871186   57.296168  -384.620432  23.390924   \n",
       "3       XGBoost Regressor  -901.008530   86.594284  -336.742940  15.441454   \n",
       "\n",
       "   Mean_MAPE  Std_MAPE   Mean_R2    Std_R2  \n",
       "0  -0.329617  0.011172  0.185954  0.014819  \n",
       "1  -0.325167  0.016606  0.224689  0.011540  \n",
       "2  -0.048013  0.004354  0.859032  0.022845  \n",
       "3  -0.043190  0.001084  0.920459  0.009352  "
      ]
     },
     "execution_count": 30,
     "metadata": {},
     "output_type": "execute_result"
    }
   ],
   "source": [
    "# Evaluasi hasil dari 5 kandidat algoritma yang digunakan\n",
    "pd.DataFrame({\n",
    "    'Model': ['Linear Regression', 'KNN Regressor', 'DecisionTree Regressor', 'XGBoost Regressor'],\n",
    "    'Mean_RMSE': nilai_mean_rmse,\n",
    "    'Std_RMSE': nilai_std_rmse,\n",
    "    'Mean_MAE': nilai_mean_mae,\n",
    "    'Std_MAE': nilai_std_mae,\n",
    "    'Mean_MAPE': nilai_mean_mape,\n",
    "    'Std_MAPE': nilai_std_mape,\n",
    "    'Mean_R2': nilai_mean_r2,\n",
    "    'Std_R2' : nilai_std_r2\n",
    "})"
   ]
  },
  {
   "cell_type": "markdown",
   "metadata": {
    "id": "8KJ9IngXk-Ba"
   },
   "source": [
    "Terdapat perbedaan cukup signifikan antara nilai RMSE dan MAE, di mana nilai RMSE lebih tinggi karena nilai residuals atau error-nya dikuadratkan terlebih dahulu sebelum dirata-ratakan. Hal ini menyebabkan RMSE akan memberikan 'weight' yang lebih tinggi untuk nilai error yang besar. Dengan kata lain, terdapat nilai-nilai error yang besar yang dihasilkan oleh semua algoritma yang digunakan, sehingga ada perbedaan signifikan antara nilai RMSE dan MAE.\n",
    "\n",
    "Berdasarkan nilai metrik-metrik diatas, XGBoost adalah model terbaik karena memiliki nilain RMSE, MAE, MAPE paling rendah dan nilai R-squared nya paling mendekati 1."
   ]
  },
  {
   "cell_type": "markdown",
   "metadata": {
    "id": "-Gufm67ek-Ba"
   },
   "source": [
    "### **4.4. Predict to Test Set with the Benchmark Model**\n",
    "\n",
    "Prediksi pada test set dengan menggunakan model XGBoost"
   ]
  },
  {
   "cell_type": "code",
   "execution_count": 31,
   "metadata": {
    "id": "T69VCfnPk-Ba",
    "outputId": "3d4fe126-58da-4276-94b4-5cd9b8fdf3b0"
   },
   "outputs": [
    {
     "data": {
      "text/html": [
       "<div>\n",
       "<style scoped>\n",
       "    .dataframe tbody tr th:only-of-type {\n",
       "        vertical-align: middle;\n",
       "    }\n",
       "\n",
       "    .dataframe tbody tr th {\n",
       "        vertical-align: top;\n",
       "    }\n",
       "\n",
       "    .dataframe thead th {\n",
       "        text-align: right;\n",
       "    }\n",
       "</style>\n",
       "<table border=\"1\" class=\"dataframe\">\n",
       "  <thead>\n",
       "    <tr style=\"text-align: right;\">\n",
       "      <th></th>\n",
       "      <th>RMSE</th>\n",
       "      <th>MAE</th>\n",
       "      <th>MAPE</th>\n",
       "      <th>R2</th>\n",
       "    </tr>\n",
       "  </thead>\n",
       "  <tbody>\n",
       "    <tr>\n",
       "      <th>XGB</th>\n",
       "      <td>953.693492</td>\n",
       "      <td>409.705672</td>\n",
       "      <td>0.063105</td>\n",
       "      <td>0.9063</td>\n",
       "    </tr>\n",
       "  </tbody>\n",
       "</table>\n",
       "</div>"
      ],
      "text/plain": [
       "           RMSE         MAE      MAPE      R2\n",
       "XGB  953.693492  409.705672  0.063105  0.9063"
      ]
     },
     "execution_count": 31,
     "metadata": {},
     "output_type": "execute_result"
    }
   ],
   "source": [
    "# Benchmark 2 model terbaik\n",
    "models = {\n",
    "    'XGB': XGBRegressor(random_state=1),\n",
    "}\n",
    "\n",
    "score_rmse = []\n",
    "score_mae = []\n",
    "score_mape = []\n",
    "score_r2 = []\n",
    "\n",
    "# Prediksi pada test set\n",
    "for i in models:\n",
    "\n",
    "    model = Pipeline([\n",
    "        ('preprocessing', transformer),\n",
    "        ('scaler', scaler),\n",
    "        ('model', models[i])\n",
    "        ])\n",
    "\n",
    "    model.fit(X_train, y_train)\n",
    "    y_pred = model.predict(X_test)\n",
    "    score_rmse.append(np.sqrt(mean_squared_error(y_test, y_pred)))\n",
    "    score_mae.append(mean_absolute_error(y_test, y_pred))\n",
    "    score_mape.append(mean_absolute_percentage_error(y_test, y_pred))\n",
    "    score_r2.append(r2_score(y_test, y_pred))\n",
    "\n",
    "\n",
    "score_before_tuning = pd.DataFrame({'RMSE': score_rmse, 'MAE': score_mae, 'MAPE': score_mape, 'R2': score_r2}, index=models.keys())\n",
    "score_before_tuning"
   ]
  },
  {
   "cell_type": "markdown",
   "metadata": {
    "id": "_4cmBFxKk-Bb"
   },
   "source": [
    "### **4.5. Hyperparameter Tuning**\n",
    "\n",
    "Pada tahap ini, kita akan melakukan hyperparameter tuning pada model XGBoost dengan harapan dapat meningkatkan performa model."
   ]
  },
  {
   "cell_type": "markdown",
   "metadata": {
    "id": "7L-Nr3xkk-Bb"
   },
   "source": [
    "Untuk panduan tuning model XGBoost, dapat merujuk ke [Tuning XGBoost](https://xgboost.readthedocs.io/en/latest/parameter.html#general-parameters)."
   ]
  },
  {
   "cell_type": "code",
   "execution_count": 32,
   "metadata": {
    "id": "lqIjIJepk-Bb"
   },
   "outputs": [],
   "source": [
    "# Kedalaman pohon\n",
    "max_depth = list(np.arange(1, 11))\n",
    "\n",
    "# Learning rate\n",
    "learning_rate = list(np.arange(1, 100)/100)\n",
    "\n",
    "# Jumlah pohon\n",
    "n_estimators = list(np.arange(100, 201))\n",
    "\n",
    "# Jumlah baris tiap pohon (% dari total baris train set)\n",
    "subsample = list(np.arange(2, 10)/10)\n",
    "\n",
    "# Gamma (min_impurity_decrease)\n",
    "gamma = list(np.arange(1, 11)) # Semakin besar nilainya, semakin konservatif/simpel modelnya\n",
    "\n",
    "# Jumlah feature yang digunakan untuk tiap pohon (% dari total kolom train set)\n",
    "colsample_bytree = list(np.arange(1, 10)/10)\n",
    "\n",
    "# Alpha (regularization)\n",
    "reg_alpha = list(np.logspace(-3, 1, 10)) # Semakin besar nilainya, semakin konservatif/simpel modelnya\n",
    "\n",
    "\n",
    "# Hyperparam space XGboost\n",
    "hyperparam_space_xgb = {\n",
    "    'model__max_depth': max_depth, \n",
    "    'model__learning_rate': learning_rate,\n",
    "    'model__n_estimators': n_estimators,\n",
    "    'model__subsample': subsample,\n",
    "    'model__gamma': gamma,\n",
    "    'model__colsample_bytree': colsample_bytree,\n",
    "    'model__reg_alpha': reg_alpha\n",
    "}"
   ]
  },
  {
   "cell_type": "code",
   "execution_count": 33,
   "metadata": {
    "id": "rH8NH89Uk-Bb"
   },
   "outputs": [],
   "source": [
    "# Benchmark model dengan hyperparameter tuning\n",
    "xgb = XGBRegressor(random_state=1, verbosity=0)\n",
    "\n",
    "# Membuat algorithm chains\n",
    "estimator_xgb = Pipeline([\n",
    "        ('preprocessing', transformer),\n",
    "        ('scaler', scaler),\n",
    "        ('model', xgb)\n",
    "        ])\n",
    "\n",
    "crossval = KFold(n_splits=5, shuffle=True, random_state=1)\n",
    "\n",
    "# Hyperparameter tuning\n",
    "random_xgb = RandomizedSearchCV(\n",
    "    estimator_xgb, \n",
    "    param_distributions = hyperparam_space_xgb,\n",
    "    n_iter = 50,\n",
    "    cv = crossval, \n",
    "    scoring = ['neg_root_mean_squared_error', 'neg_mean_absolute_error', 'neg_mean_absolute_percentage_error'], \n",
    "    n_jobs = -1,\n",
    "    refit = 'neg_root_mean_squared_error', # Hanya bisa memilih salah stau metric untuk optimisasi\n",
    "    random_state = 1  \n",
    ")"
   ]
  },
  {
   "cell_type": "code",
   "execution_count": 34,
   "metadata": {
    "id": "WoI0jcLHk-Bb",
    "outputId": "e5fb85b8-50dc-4679-9574-9ad794097c2d"
   },
   "outputs": [
    {
     "data": {
      "text/html": [
       "<style>#sk-container-id-1 {color: black;background-color: white;}#sk-container-id-1 pre{padding: 0;}#sk-container-id-1 div.sk-toggleable {background-color: white;}#sk-container-id-1 label.sk-toggleable__label {cursor: pointer;display: block;width: 100%;margin-bottom: 0;padding: 0.3em;box-sizing: border-box;text-align: center;}#sk-container-id-1 label.sk-toggleable__label-arrow:before {content: \"▸\";float: left;margin-right: 0.25em;color: #696969;}#sk-container-id-1 label.sk-toggleable__label-arrow:hover:before {color: black;}#sk-container-id-1 div.sk-estimator:hover label.sk-toggleable__label-arrow:before {color: black;}#sk-container-id-1 div.sk-toggleable__content {max-height: 0;max-width: 0;overflow: hidden;text-align: left;background-color: #f0f8ff;}#sk-container-id-1 div.sk-toggleable__content pre {margin: 0.2em;color: black;border-radius: 0.25em;background-color: #f0f8ff;}#sk-container-id-1 input.sk-toggleable__control:checked~div.sk-toggleable__content {max-height: 200px;max-width: 100%;overflow: auto;}#sk-container-id-1 input.sk-toggleable__control:checked~label.sk-toggleable__label-arrow:before {content: \"▾\";}#sk-container-id-1 div.sk-estimator input.sk-toggleable__control:checked~label.sk-toggleable__label {background-color: #d4ebff;}#sk-container-id-1 div.sk-label input.sk-toggleable__control:checked~label.sk-toggleable__label {background-color: #d4ebff;}#sk-container-id-1 input.sk-hidden--visually {border: 0;clip: rect(1px 1px 1px 1px);clip: rect(1px, 1px, 1px, 1px);height: 1px;margin: -1px;overflow: hidden;padding: 0;position: absolute;width: 1px;}#sk-container-id-1 div.sk-estimator {font-family: monospace;background-color: #f0f8ff;border: 1px dotted black;border-radius: 0.25em;box-sizing: border-box;margin-bottom: 0.5em;}#sk-container-id-1 div.sk-estimator:hover {background-color: #d4ebff;}#sk-container-id-1 div.sk-parallel-item::after {content: \"\";width: 100%;border-bottom: 1px solid gray;flex-grow: 1;}#sk-container-id-1 div.sk-label:hover label.sk-toggleable__label {background-color: #d4ebff;}#sk-container-id-1 div.sk-serial::before {content: \"\";position: absolute;border-left: 1px solid gray;box-sizing: border-box;top: 0;bottom: 0;left: 50%;z-index: 0;}#sk-container-id-1 div.sk-serial {display: flex;flex-direction: column;align-items: center;background-color: white;padding-right: 0.2em;padding-left: 0.2em;position: relative;}#sk-container-id-1 div.sk-item {position: relative;z-index: 1;}#sk-container-id-1 div.sk-parallel {display: flex;align-items: stretch;justify-content: center;background-color: white;position: relative;}#sk-container-id-1 div.sk-item::before, #sk-container-id-1 div.sk-parallel-item::before {content: \"\";position: absolute;border-left: 1px solid gray;box-sizing: border-box;top: 0;bottom: 0;left: 50%;z-index: -1;}#sk-container-id-1 div.sk-parallel-item {display: flex;flex-direction: column;z-index: 1;position: relative;background-color: white;}#sk-container-id-1 div.sk-parallel-item:first-child::after {align-self: flex-end;width: 50%;}#sk-container-id-1 div.sk-parallel-item:last-child::after {align-self: flex-start;width: 50%;}#sk-container-id-1 div.sk-parallel-item:only-child::after {width: 0;}#sk-container-id-1 div.sk-dashed-wrapped {border: 1px dashed gray;margin: 0 0.4em 0.5em 0.4em;box-sizing: border-box;padding-bottom: 0.4em;background-color: white;}#sk-container-id-1 div.sk-label label {font-family: monospace;font-weight: bold;display: inline-block;line-height: 1.2em;}#sk-container-id-1 div.sk-label-container {text-align: center;}#sk-container-id-1 div.sk-container {/* jupyter's `normalize.less` sets `[hidden] { display: none; }` but bootstrap.min.css set `[hidden] { display: none !important; }` so we also need the `!important` here to be able to override the default hidden behavior on the sphinx rendered scikit-learn.org. See: https://github.com/scikit-learn/scikit-learn/issues/21755 */display: inline-block !important;position: relative;}#sk-container-id-1 div.sk-text-repr-fallback {display: none;}</style><div id=\"sk-container-id-1\" class=\"sk-top-container\"><div class=\"sk-text-repr-fallback\"><pre>RandomizedSearchCV(cv=KFold(n_splits=5, random_state=1, shuffle=True),\n",
       "                   estimator=Pipeline(steps=[(&#x27;preprocessing&#x27;,\n",
       "                                              ColumnTransformer(remainder=&#x27;passthrough&#x27;,\n",
       "                                                                transformers=[(&#x27;One &#x27;\n",
       "                                                                               &#x27;Hot&#x27;,\n",
       "                                                                               OneHotEncoder(drop=&#x27;first&#x27;),\n",
       "                                                                               [&#x27;Vehicle &#x27;\n",
       "                                                                                &#x27;Class&#x27;,\n",
       "                                                                                &#x27;Coverage&#x27;,\n",
       "                                                                                &#x27;Renew &#x27;\n",
       "                                                                                &#x27;Offer &#x27;\n",
       "                                                                                &#x27;Type&#x27;,\n",
       "                                                                                &#x27;EmploymentStatus&#x27;,\n",
       "                                                                                &#x27;Marital &#x27;\n",
       "                                                                                &#x27;Status&#x27;]),\n",
       "                                                                              (&#x27;Ordinal&#x27;,\n",
       "                                                                               OrdinalEncoder(),\n",
       "                                                                               [&#x27;Education&#x27;])])),\n",
       "                                             (&#x27;scaler...\n",
       "                                                             0.007742636826811269,\n",
       "                                                             0.021544346900318832,\n",
       "                                                             0.05994842503189409,\n",
       "                                                             0.1668100537200059,\n",
       "                                                             0.46415888336127775,\n",
       "                                                             1.2915496650148828,\n",
       "                                                             3.593813663804626,\n",
       "                                                             10.0],\n",
       "                                        &#x27;model__subsample&#x27;: [0.2, 0.3, 0.4, 0.5,\n",
       "                                                             0.6, 0.7, 0.8,\n",
       "                                                             0.9]},\n",
       "                   random_state=1, refit=&#x27;neg_root_mean_squared_error&#x27;,\n",
       "                   scoring=[&#x27;neg_root_mean_squared_error&#x27;,\n",
       "                            &#x27;neg_mean_absolute_error&#x27;,\n",
       "                            &#x27;neg_mean_absolute_percentage_error&#x27;])</pre><b>In a Jupyter environment, please rerun this cell to show the HTML representation or trust the notebook. <br />On GitHub, the HTML representation is unable to render, please try loading this page with nbviewer.org.</b></div><div class=\"sk-container\" hidden><div class=\"sk-item sk-dashed-wrapped\"><div class=\"sk-label-container\"><div class=\"sk-label sk-toggleable\"><input class=\"sk-toggleable__control sk-hidden--visually\" id=\"sk-estimator-id-1\" type=\"checkbox\" ><label for=\"sk-estimator-id-1\" class=\"sk-toggleable__label sk-toggleable__label-arrow\">RandomizedSearchCV</label><div class=\"sk-toggleable__content\"><pre>RandomizedSearchCV(cv=KFold(n_splits=5, random_state=1, shuffle=True),\n",
       "                   estimator=Pipeline(steps=[(&#x27;preprocessing&#x27;,\n",
       "                                              ColumnTransformer(remainder=&#x27;passthrough&#x27;,\n",
       "                                                                transformers=[(&#x27;One &#x27;\n",
       "                                                                               &#x27;Hot&#x27;,\n",
       "                                                                               OneHotEncoder(drop=&#x27;first&#x27;),\n",
       "                                                                               [&#x27;Vehicle &#x27;\n",
       "                                                                                &#x27;Class&#x27;,\n",
       "                                                                                &#x27;Coverage&#x27;,\n",
       "                                                                                &#x27;Renew &#x27;\n",
       "                                                                                &#x27;Offer &#x27;\n",
       "                                                                                &#x27;Type&#x27;,\n",
       "                                                                                &#x27;EmploymentStatus&#x27;,\n",
       "                                                                                &#x27;Marital &#x27;\n",
       "                                                                                &#x27;Status&#x27;]),\n",
       "                                                                              (&#x27;Ordinal&#x27;,\n",
       "                                                                               OrdinalEncoder(),\n",
       "                                                                               [&#x27;Education&#x27;])])),\n",
       "                                             (&#x27;scaler...\n",
       "                                                             0.007742636826811269,\n",
       "                                                             0.021544346900318832,\n",
       "                                                             0.05994842503189409,\n",
       "                                                             0.1668100537200059,\n",
       "                                                             0.46415888336127775,\n",
       "                                                             1.2915496650148828,\n",
       "                                                             3.593813663804626,\n",
       "                                                             10.0],\n",
       "                                        &#x27;model__subsample&#x27;: [0.2, 0.3, 0.4, 0.5,\n",
       "                                                             0.6, 0.7, 0.8,\n",
       "                                                             0.9]},\n",
       "                   random_state=1, refit=&#x27;neg_root_mean_squared_error&#x27;,\n",
       "                   scoring=[&#x27;neg_root_mean_squared_error&#x27;,\n",
       "                            &#x27;neg_mean_absolute_error&#x27;,\n",
       "                            &#x27;neg_mean_absolute_percentage_error&#x27;])</pre></div></div></div><div class=\"sk-parallel\"><div class=\"sk-parallel-item\"><div class=\"sk-item\"><div class=\"sk-label-container\"><div class=\"sk-label sk-toggleable\"><input class=\"sk-toggleable__control sk-hidden--visually\" id=\"sk-estimator-id-2\" type=\"checkbox\" ><label for=\"sk-estimator-id-2\" class=\"sk-toggleable__label sk-toggleable__label-arrow\">estimator: Pipeline</label><div class=\"sk-toggleable__content\"><pre>Pipeline(steps=[(&#x27;preprocessing&#x27;,\n",
       "                 ColumnTransformer(remainder=&#x27;passthrough&#x27;,\n",
       "                                   transformers=[(&#x27;One Hot&#x27;,\n",
       "                                                  OneHotEncoder(drop=&#x27;first&#x27;),\n",
       "                                                  [&#x27;Vehicle Class&#x27;, &#x27;Coverage&#x27;,\n",
       "                                                   &#x27;Renew Offer Type&#x27;,\n",
       "                                                   &#x27;EmploymentStatus&#x27;,\n",
       "                                                   &#x27;Marital Status&#x27;]),\n",
       "                                                 (&#x27;Ordinal&#x27;, OrdinalEncoder(),\n",
       "                                                  [&#x27;Education&#x27;])])),\n",
       "                (&#x27;scaler&#x27;, StandardScaler()),\n",
       "                (&#x27;model&#x27;,\n",
       "                 XGBRegressor(base_score=None, booster=None, callbacks=None,\n",
       "                              co...\n",
       "                              gamma=None, gpu_id=None, grow_policy=None,\n",
       "                              importance_type=None,\n",
       "                              interaction_constraints=None, learning_rate=None,\n",
       "                              max_bin=None, max_cat_to_onehot=None,\n",
       "                              max_delta_step=None, max_depth=None,\n",
       "                              max_leaves=None, min_child_weight=None,\n",
       "                              missing=nan, monotone_constraints=None,\n",
       "                              n_estimators=100, n_jobs=None,\n",
       "                              num_parallel_tree=None, predictor=None,\n",
       "                              random_state=1, reg_alpha=None, reg_lambda=None, ...))])</pre></div></div></div><div class=\"sk-serial\"><div class=\"sk-item\"><div class=\"sk-serial\"><div class=\"sk-item sk-dashed-wrapped\"><div class=\"sk-label-container\"><div class=\"sk-label sk-toggleable\"><input class=\"sk-toggleable__control sk-hidden--visually\" id=\"sk-estimator-id-3\" type=\"checkbox\" ><label for=\"sk-estimator-id-3\" class=\"sk-toggleable__label sk-toggleable__label-arrow\">preprocessing: ColumnTransformer</label><div class=\"sk-toggleable__content\"><pre>ColumnTransformer(remainder=&#x27;passthrough&#x27;,\n",
       "                  transformers=[(&#x27;One Hot&#x27;, OneHotEncoder(drop=&#x27;first&#x27;),\n",
       "                                 [&#x27;Vehicle Class&#x27;, &#x27;Coverage&#x27;,\n",
       "                                  &#x27;Renew Offer Type&#x27;, &#x27;EmploymentStatus&#x27;,\n",
       "                                  &#x27;Marital Status&#x27;]),\n",
       "                                (&#x27;Ordinal&#x27;, OrdinalEncoder(), [&#x27;Education&#x27;])])</pre></div></div></div><div class=\"sk-parallel\"><div class=\"sk-parallel-item\"><div class=\"sk-item\"><div class=\"sk-label-container\"><div class=\"sk-label sk-toggleable\"><input class=\"sk-toggleable__control sk-hidden--visually\" id=\"sk-estimator-id-4\" type=\"checkbox\" ><label for=\"sk-estimator-id-4\" class=\"sk-toggleable__label sk-toggleable__label-arrow\">One Hot</label><div class=\"sk-toggleable__content\"><pre>[&#x27;Vehicle Class&#x27;, &#x27;Coverage&#x27;, &#x27;Renew Offer Type&#x27;, &#x27;EmploymentStatus&#x27;, &#x27;Marital Status&#x27;]</pre></div></div></div><div class=\"sk-serial\"><div class=\"sk-item\"><div class=\"sk-estimator sk-toggleable\"><input class=\"sk-toggleable__control sk-hidden--visually\" id=\"sk-estimator-id-5\" type=\"checkbox\" ><label for=\"sk-estimator-id-5\" class=\"sk-toggleable__label sk-toggleable__label-arrow\">OneHotEncoder</label><div class=\"sk-toggleable__content\"><pre>OneHotEncoder(drop=&#x27;first&#x27;)</pre></div></div></div></div></div></div><div class=\"sk-parallel-item\"><div class=\"sk-item\"><div class=\"sk-label-container\"><div class=\"sk-label sk-toggleable\"><input class=\"sk-toggleable__control sk-hidden--visually\" id=\"sk-estimator-id-6\" type=\"checkbox\" ><label for=\"sk-estimator-id-6\" class=\"sk-toggleable__label sk-toggleable__label-arrow\">Ordinal</label><div class=\"sk-toggleable__content\"><pre>[&#x27;Education&#x27;]</pre></div></div></div><div class=\"sk-serial\"><div class=\"sk-item\"><div class=\"sk-estimator sk-toggleable\"><input class=\"sk-toggleable__control sk-hidden--visually\" id=\"sk-estimator-id-7\" type=\"checkbox\" ><label for=\"sk-estimator-id-7\" class=\"sk-toggleable__label sk-toggleable__label-arrow\">OrdinalEncoder</label><div class=\"sk-toggleable__content\"><pre>OrdinalEncoder()</pre></div></div></div></div></div></div><div class=\"sk-parallel-item\"><div class=\"sk-item\"><div class=\"sk-label-container\"><div class=\"sk-label sk-toggleable\"><input class=\"sk-toggleable__control sk-hidden--visually\" id=\"sk-estimator-id-8\" type=\"checkbox\" ><label for=\"sk-estimator-id-8\" class=\"sk-toggleable__label sk-toggleable__label-arrow\">remainder</label><div class=\"sk-toggleable__content\"><pre>[&#x27;Number of Policies&#x27;, &#x27;Monthly Premium Auto&#x27;, &#x27;Total Claim Amount&#x27;, &#x27;Income&#x27;]</pre></div></div></div><div class=\"sk-serial\"><div class=\"sk-item\"><div class=\"sk-estimator sk-toggleable\"><input class=\"sk-toggleable__control sk-hidden--visually\" id=\"sk-estimator-id-9\" type=\"checkbox\" ><label for=\"sk-estimator-id-9\" class=\"sk-toggleable__label sk-toggleable__label-arrow\">passthrough</label><div class=\"sk-toggleable__content\"><pre>passthrough</pre></div></div></div></div></div></div></div></div><div class=\"sk-item\"><div class=\"sk-estimator sk-toggleable\"><input class=\"sk-toggleable__control sk-hidden--visually\" id=\"sk-estimator-id-10\" type=\"checkbox\" ><label for=\"sk-estimator-id-10\" class=\"sk-toggleable__label sk-toggleable__label-arrow\">StandardScaler</label><div class=\"sk-toggleable__content\"><pre>StandardScaler()</pre></div></div></div><div class=\"sk-item\"><div class=\"sk-estimator sk-toggleable\"><input class=\"sk-toggleable__control sk-hidden--visually\" id=\"sk-estimator-id-11\" type=\"checkbox\" ><label for=\"sk-estimator-id-11\" class=\"sk-toggleable__label sk-toggleable__label-arrow\">XGBRegressor</label><div class=\"sk-toggleable__content\"><pre>XGBRegressor(base_score=None, booster=None, callbacks=None,\n",
       "             colsample_bylevel=None, colsample_bynode=None,\n",
       "             colsample_bytree=None, early_stopping_rounds=None,\n",
       "             enable_categorical=False, eval_metric=None, gamma=None,\n",
       "             gpu_id=None, grow_policy=None, importance_type=None,\n",
       "             interaction_constraints=None, learning_rate=None, max_bin=None,\n",
       "             max_cat_to_onehot=None, max_delta_step=None, max_depth=None,\n",
       "             max_leaves=None, min_child_weight=None, missing=nan,\n",
       "             monotone_constraints=None, n_estimators=100, n_jobs=None,\n",
       "             num_parallel_tree=None, predictor=None, random_state=1,\n",
       "             reg_alpha=None, reg_lambda=None, ...)</pre></div></div></div></div></div></div></div></div></div></div></div></div>"
      ],
      "text/plain": [
       "RandomizedSearchCV(cv=KFold(n_splits=5, random_state=1, shuffle=True),\n",
       "                   estimator=Pipeline(steps=[('preprocessing',\n",
       "                                              ColumnTransformer(remainder='passthrough',\n",
       "                                                                transformers=[('One '\n",
       "                                                                               'Hot',\n",
       "                                                                               OneHotEncoder(drop='first'),\n",
       "                                                                               ['Vehicle '\n",
       "                                                                                'Class',\n",
       "                                                                                'Coverage',\n",
       "                                                                                'Renew '\n",
       "                                                                                'Offer '\n",
       "                                                                                'Type',\n",
       "                                                                                'EmploymentStatus',\n",
       "                                                                                'Marital '\n",
       "                                                                                'Status']),\n",
       "                                                                              ('Ordinal',\n",
       "                                                                               OrdinalEncoder(),\n",
       "                                                                               ['Education'])])),\n",
       "                                             ('scaler...\n",
       "                                                             0.007742636826811269,\n",
       "                                                             0.021544346900318832,\n",
       "                                                             0.05994842503189409,\n",
       "                                                             0.1668100537200059,\n",
       "                                                             0.46415888336127775,\n",
       "                                                             1.2915496650148828,\n",
       "                                                             3.593813663804626,\n",
       "                                                             10.0],\n",
       "                                        'model__subsample': [0.2, 0.3, 0.4, 0.5,\n",
       "                                                             0.6, 0.7, 0.8,\n",
       "                                                             0.9]},\n",
       "                   random_state=1, refit='neg_root_mean_squared_error',\n",
       "                   scoring=['neg_root_mean_squared_error',\n",
       "                            'neg_mean_absolute_error',\n",
       "                            'neg_mean_absolute_percentage_error'])"
      ]
     },
     "execution_count": 34,
     "metadata": {},
     "output_type": "execute_result"
    }
   ],
   "source": [
    "# Fitting data training untuk mencari parameter terbaik\n",
    "random_xgb.fit(X_train, y_train)"
   ]
  },
  {
   "cell_type": "code",
   "execution_count": 35,
   "metadata": {
    "id": "7i1Dfnj5k-Bb",
    "outputId": "839117b8-b9e3-43ef-8b93-eb71c7d011ee"
   },
   "outputs": [
    {
     "data": {
      "text/html": [
       "<div>\n",
       "<style scoped>\n",
       "    .dataframe tbody tr th:only-of-type {\n",
       "        vertical-align: middle;\n",
       "    }\n",
       "\n",
       "    .dataframe tbody tr th {\n",
       "        vertical-align: top;\n",
       "    }\n",
       "\n",
       "    .dataframe thead th {\n",
       "        text-align: right;\n",
       "    }\n",
       "</style>\n",
       "<table border=\"1\" class=\"dataframe\">\n",
       "  <thead>\n",
       "    <tr style=\"text-align: right;\">\n",
       "      <th></th>\n",
       "      <th>mean_fit_time</th>\n",
       "      <th>std_fit_time</th>\n",
       "      <th>mean_score_time</th>\n",
       "      <th>std_score_time</th>\n",
       "      <th>param_model__subsample</th>\n",
       "      <th>param_model__reg_alpha</th>\n",
       "      <th>param_model__n_estimators</th>\n",
       "      <th>param_model__max_depth</th>\n",
       "      <th>param_model__learning_rate</th>\n",
       "      <th>param_model__gamma</th>\n",
       "      <th>param_model__colsample_bytree</th>\n",
       "      <th>params</th>\n",
       "      <th>split0_test_neg_root_mean_squared_error</th>\n",
       "      <th>split1_test_neg_root_mean_squared_error</th>\n",
       "      <th>split2_test_neg_root_mean_squared_error</th>\n",
       "      <th>split3_test_neg_root_mean_squared_error</th>\n",
       "      <th>split4_test_neg_root_mean_squared_error</th>\n",
       "      <th>mean_test_neg_root_mean_squared_error</th>\n",
       "      <th>std_test_neg_root_mean_squared_error</th>\n",
       "      <th>rank_test_neg_root_mean_squared_error</th>\n",
       "      <th>split0_test_neg_mean_absolute_error</th>\n",
       "      <th>split1_test_neg_mean_absolute_error</th>\n",
       "      <th>split2_test_neg_mean_absolute_error</th>\n",
       "      <th>split3_test_neg_mean_absolute_error</th>\n",
       "      <th>split4_test_neg_mean_absolute_error</th>\n",
       "      <th>mean_test_neg_mean_absolute_error</th>\n",
       "      <th>std_test_neg_mean_absolute_error</th>\n",
       "      <th>rank_test_neg_mean_absolute_error</th>\n",
       "      <th>split0_test_neg_mean_absolute_percentage_error</th>\n",
       "      <th>split1_test_neg_mean_absolute_percentage_error</th>\n",
       "      <th>split2_test_neg_mean_absolute_percentage_error</th>\n",
       "      <th>split3_test_neg_mean_absolute_percentage_error</th>\n",
       "      <th>split4_test_neg_mean_absolute_percentage_error</th>\n",
       "      <th>mean_test_neg_mean_absolute_percentage_error</th>\n",
       "      <th>std_test_neg_mean_absolute_percentage_error</th>\n",
       "      <th>rank_test_neg_mean_absolute_percentage_error</th>\n",
       "    </tr>\n",
       "  </thead>\n",
       "  <tbody>\n",
       "    <tr>\n",
       "      <th>17</th>\n",
       "      <td>1.002512</td>\n",
       "      <td>0.025323</td>\n",
       "      <td>0.018556</td>\n",
       "      <td>0.002141</td>\n",
       "      <td>0.6</td>\n",
       "      <td>0.001</td>\n",
       "      <td>190</td>\n",
       "      <td>5</td>\n",
       "      <td>0.04</td>\n",
       "      <td>9</td>\n",
       "      <td>0.9</td>\n",
       "      <td>{'model__subsample': 0.6, 'model__reg_alpha': ...</td>\n",
       "      <td>-880.293108</td>\n",
       "      <td>-955.232975</td>\n",
       "      <td>-819.173218</td>\n",
       "      <td>-819.612210</td>\n",
       "      <td>-952.576389</td>\n",
       "      <td>-885.377580</td>\n",
       "      <td>60.215296</td>\n",
       "      <td>1</td>\n",
       "      <td>-344.511542</td>\n",
       "      <td>-383.785537</td>\n",
       "      <td>-350.571960</td>\n",
       "      <td>-337.195187</td>\n",
       "      <td>-354.232005</td>\n",
       "      <td>-354.059246</td>\n",
       "      <td>15.946150</td>\n",
       "      <td>2</td>\n",
       "      <td>-0.043557</td>\n",
       "      <td>-0.046789</td>\n",
       "      <td>-0.046308</td>\n",
       "      <td>-0.045146</td>\n",
       "      <td>-0.044032</td>\n",
       "      <td>-0.045167</td>\n",
       "      <td>0.001250</td>\n",
       "      <td>2</td>\n",
       "    </tr>\n",
       "    <tr>\n",
       "      <th>7</th>\n",
       "      <td>0.855431</td>\n",
       "      <td>0.036749</td>\n",
       "      <td>0.017665</td>\n",
       "      <td>0.001137</td>\n",
       "      <td>0.9</td>\n",
       "      <td>0.059948</td>\n",
       "      <td>119</td>\n",
       "      <td>8</td>\n",
       "      <td>0.05</td>\n",
       "      <td>5</td>\n",
       "      <td>0.8</td>\n",
       "      <td>{'model__subsample': 0.9, 'model__reg_alpha': ...</td>\n",
       "      <td>-889.995828</td>\n",
       "      <td>-973.267655</td>\n",
       "      <td>-808.010492</td>\n",
       "      <td>-827.285082</td>\n",
       "      <td>-967.786846</td>\n",
       "      <td>-893.269180</td>\n",
       "      <td>68.682310</td>\n",
       "      <td>2</td>\n",
       "      <td>-336.466163</td>\n",
       "      <td>-377.846898</td>\n",
       "      <td>-342.032978</td>\n",
       "      <td>-332.888492</td>\n",
       "      <td>-351.969773</td>\n",
       "      <td>-348.240861</td>\n",
       "      <td>16.144960</td>\n",
       "      <td>1</td>\n",
       "      <td>-0.041676</td>\n",
       "      <td>-0.046219</td>\n",
       "      <td>-0.045335</td>\n",
       "      <td>-0.044772</td>\n",
       "      <td>-0.044326</td>\n",
       "      <td>-0.044465</td>\n",
       "      <td>0.001532</td>\n",
       "      <td>1</td>\n",
       "    </tr>\n",
       "    <tr>\n",
       "      <th>24</th>\n",
       "      <td>0.350759</td>\n",
       "      <td>0.016460</td>\n",
       "      <td>0.014927</td>\n",
       "      <td>0.001020</td>\n",
       "      <td>0.9</td>\n",
       "      <td>10.0</td>\n",
       "      <td>146</td>\n",
       "      <td>4</td>\n",
       "      <td>0.06</td>\n",
       "      <td>5</td>\n",
       "      <td>0.4</td>\n",
       "      <td>{'model__subsample': 0.9, 'model__reg_alpha': ...</td>\n",
       "      <td>-920.294535</td>\n",
       "      <td>-1014.641493</td>\n",
       "      <td>-822.047753</td>\n",
       "      <td>-829.073746</td>\n",
       "      <td>-965.208519</td>\n",
       "      <td>-910.253209</td>\n",
       "      <td>75.350031</td>\n",
       "      <td>3</td>\n",
       "      <td>-399.275823</td>\n",
       "      <td>-463.000043</td>\n",
       "      <td>-405.769162</td>\n",
       "      <td>-394.830311</td>\n",
       "      <td>-420.535124</td>\n",
       "      <td>-416.682093</td>\n",
       "      <td>24.737700</td>\n",
       "      <td>3</td>\n",
       "      <td>-0.054098</td>\n",
       "      <td>-0.061098</td>\n",
       "      <td>-0.057097</td>\n",
       "      <td>-0.056279</td>\n",
       "      <td>-0.056645</td>\n",
       "      <td>-0.057043</td>\n",
       "      <td>0.002274</td>\n",
       "      <td>3</td>\n",
       "    </tr>\n",
       "    <tr>\n",
       "      <th>22</th>\n",
       "      <td>0.361418</td>\n",
       "      <td>0.018835</td>\n",
       "      <td>0.015608</td>\n",
       "      <td>0.001218</td>\n",
       "      <td>0.7</td>\n",
       "      <td>0.002783</td>\n",
       "      <td>155</td>\n",
       "      <td>4</td>\n",
       "      <td>0.25</td>\n",
       "      <td>8</td>\n",
       "      <td>0.3</td>\n",
       "      <td>{'model__subsample': 0.7, 'model__reg_alpha': ...</td>\n",
       "      <td>-931.259372</td>\n",
       "      <td>-1002.828916</td>\n",
       "      <td>-846.653393</td>\n",
       "      <td>-836.187385</td>\n",
       "      <td>-978.828567</td>\n",
       "      <td>-919.151526</td>\n",
       "      <td>67.600122</td>\n",
       "      <td>4</td>\n",
       "      <td>-435.582499</td>\n",
       "      <td>-507.107829</td>\n",
       "      <td>-459.800308</td>\n",
       "      <td>-429.368651</td>\n",
       "      <td>-453.040712</td>\n",
       "      <td>-456.980000</td>\n",
       "      <td>27.409892</td>\n",
       "      <td>5</td>\n",
       "      <td>-0.068057</td>\n",
       "      <td>-0.076735</td>\n",
       "      <td>-0.073444</td>\n",
       "      <td>-0.068350</td>\n",
       "      <td>-0.068393</td>\n",
       "      <td>-0.070996</td>\n",
       "      <td>0.003503</td>\n",
       "      <td>4</td>\n",
       "    </tr>\n",
       "    <tr>\n",
       "      <th>23</th>\n",
       "      <td>0.312272</td>\n",
       "      <td>0.012679</td>\n",
       "      <td>0.016816</td>\n",
       "      <td>0.002388</td>\n",
       "      <td>0.9</td>\n",
       "      <td>3.593814</td>\n",
       "      <td>153</td>\n",
       "      <td>4</td>\n",
       "      <td>0.33</td>\n",
       "      <td>9</td>\n",
       "      <td>0.3</td>\n",
       "      <td>{'model__subsample': 0.9, 'model__reg_alpha': ...</td>\n",
       "      <td>-977.401849</td>\n",
       "      <td>-1018.895601</td>\n",
       "      <td>-875.557637</td>\n",
       "      <td>-876.380222</td>\n",
       "      <td>-974.483881</td>\n",
       "      <td>-944.543838</td>\n",
       "      <td>58.154302</td>\n",
       "      <td>5</td>\n",
       "      <td>-467.814485</td>\n",
       "      <td>-504.803060</td>\n",
       "      <td>-467.268226</td>\n",
       "      <td>-468.882195</td>\n",
       "      <td>-457.023971</td>\n",
       "      <td>-473.158387</td>\n",
       "      <td>16.390496</td>\n",
       "      <td>6</td>\n",
       "      <td>-0.074470</td>\n",
       "      <td>-0.075500</td>\n",
       "      <td>-0.076004</td>\n",
       "      <td>-0.076095</td>\n",
       "      <td>-0.069247</td>\n",
       "      <td>-0.074263</td>\n",
       "      <td>0.002574</td>\n",
       "      <td>7</td>\n",
       "    </tr>\n",
       "  </tbody>\n",
       "</table>\n",
       "</div>"
      ],
      "text/plain": [
       "    mean_fit_time  std_fit_time  mean_score_time  std_score_time  \\\n",
       "17       1.002512      0.025323         0.018556        0.002141   \n",
       "7        0.855431      0.036749         0.017665        0.001137   \n",
       "24       0.350759      0.016460         0.014927        0.001020   \n",
       "22       0.361418      0.018835         0.015608        0.001218   \n",
       "23       0.312272      0.012679         0.016816        0.002388   \n",
       "\n",
       "   param_model__subsample param_model__reg_alpha param_model__n_estimators  \\\n",
       "17                    0.6                  0.001                       190   \n",
       "7                     0.9               0.059948                       119   \n",
       "24                    0.9                   10.0                       146   \n",
       "22                    0.7               0.002783                       155   \n",
       "23                    0.9               3.593814                       153   \n",
       "\n",
       "   param_model__max_depth param_model__learning_rate param_model__gamma  \\\n",
       "17                      5                       0.04                  9   \n",
       "7                       8                       0.05                  5   \n",
       "24                      4                       0.06                  5   \n",
       "22                      4                       0.25                  8   \n",
       "23                      4                       0.33                  9   \n",
       "\n",
       "   param_model__colsample_bytree  \\\n",
       "17                           0.9   \n",
       "7                            0.8   \n",
       "24                           0.4   \n",
       "22                           0.3   \n",
       "23                           0.3   \n",
       "\n",
       "                                               params  \\\n",
       "17  {'model__subsample': 0.6, 'model__reg_alpha': ...   \n",
       "7   {'model__subsample': 0.9, 'model__reg_alpha': ...   \n",
       "24  {'model__subsample': 0.9, 'model__reg_alpha': ...   \n",
       "22  {'model__subsample': 0.7, 'model__reg_alpha': ...   \n",
       "23  {'model__subsample': 0.9, 'model__reg_alpha': ...   \n",
       "\n",
       "    split0_test_neg_root_mean_squared_error  \\\n",
       "17                              -880.293108   \n",
       "7                               -889.995828   \n",
       "24                              -920.294535   \n",
       "22                              -931.259372   \n",
       "23                              -977.401849   \n",
       "\n",
       "    split1_test_neg_root_mean_squared_error  \\\n",
       "17                              -955.232975   \n",
       "7                               -973.267655   \n",
       "24                             -1014.641493   \n",
       "22                             -1002.828916   \n",
       "23                             -1018.895601   \n",
       "\n",
       "    split2_test_neg_root_mean_squared_error  \\\n",
       "17                              -819.173218   \n",
       "7                               -808.010492   \n",
       "24                              -822.047753   \n",
       "22                              -846.653393   \n",
       "23                              -875.557637   \n",
       "\n",
       "    split3_test_neg_root_mean_squared_error  \\\n",
       "17                              -819.612210   \n",
       "7                               -827.285082   \n",
       "24                              -829.073746   \n",
       "22                              -836.187385   \n",
       "23                              -876.380222   \n",
       "\n",
       "    split4_test_neg_root_mean_squared_error  \\\n",
       "17                              -952.576389   \n",
       "7                               -967.786846   \n",
       "24                              -965.208519   \n",
       "22                              -978.828567   \n",
       "23                              -974.483881   \n",
       "\n",
       "    mean_test_neg_root_mean_squared_error  \\\n",
       "17                            -885.377580   \n",
       "7                             -893.269180   \n",
       "24                            -910.253209   \n",
       "22                            -919.151526   \n",
       "23                            -944.543838   \n",
       "\n",
       "    std_test_neg_root_mean_squared_error  \\\n",
       "17                             60.215296   \n",
       "7                              68.682310   \n",
       "24                             75.350031   \n",
       "22                             67.600122   \n",
       "23                             58.154302   \n",
       "\n",
       "    rank_test_neg_root_mean_squared_error  \\\n",
       "17                                      1   \n",
       "7                                       2   \n",
       "24                                      3   \n",
       "22                                      4   \n",
       "23                                      5   \n",
       "\n",
       "    split0_test_neg_mean_absolute_error  split1_test_neg_mean_absolute_error  \\\n",
       "17                          -344.511542                          -383.785537   \n",
       "7                           -336.466163                          -377.846898   \n",
       "24                          -399.275823                          -463.000043   \n",
       "22                          -435.582499                          -507.107829   \n",
       "23                          -467.814485                          -504.803060   \n",
       "\n",
       "    split2_test_neg_mean_absolute_error  split3_test_neg_mean_absolute_error  \\\n",
       "17                          -350.571960                          -337.195187   \n",
       "7                           -342.032978                          -332.888492   \n",
       "24                          -405.769162                          -394.830311   \n",
       "22                          -459.800308                          -429.368651   \n",
       "23                          -467.268226                          -468.882195   \n",
       "\n",
       "    split4_test_neg_mean_absolute_error  mean_test_neg_mean_absolute_error  \\\n",
       "17                          -354.232005                        -354.059246   \n",
       "7                           -351.969773                        -348.240861   \n",
       "24                          -420.535124                        -416.682093   \n",
       "22                          -453.040712                        -456.980000   \n",
       "23                          -457.023971                        -473.158387   \n",
       "\n",
       "    std_test_neg_mean_absolute_error  rank_test_neg_mean_absolute_error  \\\n",
       "17                         15.946150                                  2   \n",
       "7                          16.144960                                  1   \n",
       "24                         24.737700                                  3   \n",
       "22                         27.409892                                  5   \n",
       "23                         16.390496                                  6   \n",
       "\n",
       "    split0_test_neg_mean_absolute_percentage_error  \\\n",
       "17                                       -0.043557   \n",
       "7                                        -0.041676   \n",
       "24                                       -0.054098   \n",
       "22                                       -0.068057   \n",
       "23                                       -0.074470   \n",
       "\n",
       "    split1_test_neg_mean_absolute_percentage_error  \\\n",
       "17                                       -0.046789   \n",
       "7                                        -0.046219   \n",
       "24                                       -0.061098   \n",
       "22                                       -0.076735   \n",
       "23                                       -0.075500   \n",
       "\n",
       "    split2_test_neg_mean_absolute_percentage_error  \\\n",
       "17                                       -0.046308   \n",
       "7                                        -0.045335   \n",
       "24                                       -0.057097   \n",
       "22                                       -0.073444   \n",
       "23                                       -0.076004   \n",
       "\n",
       "    split3_test_neg_mean_absolute_percentage_error  \\\n",
       "17                                       -0.045146   \n",
       "7                                        -0.044772   \n",
       "24                                       -0.056279   \n",
       "22                                       -0.068350   \n",
       "23                                       -0.076095   \n",
       "\n",
       "    split4_test_neg_mean_absolute_percentage_error  \\\n",
       "17                                       -0.044032   \n",
       "7                                        -0.044326   \n",
       "24                                       -0.056645   \n",
       "22                                       -0.068393   \n",
       "23                                       -0.069247   \n",
       "\n",
       "    mean_test_neg_mean_absolute_percentage_error  \\\n",
       "17                                     -0.045167   \n",
       "7                                      -0.044465   \n",
       "24                                     -0.057043   \n",
       "22                                     -0.070996   \n",
       "23                                     -0.074263   \n",
       "\n",
       "    std_test_neg_mean_absolute_percentage_error  \\\n",
       "17                                     0.001250   \n",
       "7                                      0.001532   \n",
       "24                                     0.002274   \n",
       "22                                     0.003503   \n",
       "23                                     0.002574   \n",
       "\n",
       "    rank_test_neg_mean_absolute_percentage_error  \n",
       "17                                             2  \n",
       "7                                              1  \n",
       "24                                             3  \n",
       "22                                             4  \n",
       "23                                             7  "
      ]
     },
     "execution_count": 35,
     "metadata": {},
     "output_type": "execute_result"
    }
   ],
   "source": [
    "# Melihat hasil tuning dalam bentuk dataframe. Diurutkan berdasarkan RMSE, MAE & MAPE\n",
    "pd.DataFrame(random_xgb.cv_results_).sort_values(by=['rank_test_neg_root_mean_squared_error', 'rank_test_neg_mean_absolute_error', 'rank_test_neg_mean_absolute_percentage_error']).head()"
   ]
  },
  {
   "cell_type": "code",
   "execution_count": 36,
   "metadata": {
    "id": "nHdpQuonk-Bc",
    "outputId": "bd2e54e4-880c-4680-85e9-74273188cf71"
   },
   "outputs": [
    {
     "name": "stdout",
     "output_type": "stream",
     "text": [
      "XGBoost\n",
      "Best_score: -885.3775801784253\n",
      "Best_params: {'model__subsample': 0.6, 'model__reg_alpha': 0.001, 'model__n_estimators': 190, 'model__max_depth': 5, 'model__learning_rate': 0.04, 'model__gamma': 9, 'model__colsample_bytree': 0.9}\n"
     ]
    }
   ],
   "source": [
    "# Cek skor dan params terbaik\n",
    "print('XGBoost')\n",
    "print('Best_score:', random_xgb.best_score_)\n",
    "print('Best_params:', random_xgb.best_params_)"
   ]
  },
  {
   "cell_type": "markdown",
   "metadata": {
    "id": "DANt1Sbsk-Bc"
   },
   "source": [
    "### **4.6. Predict to Test Set with the Tuned Model**\n",
    "\n",
    "Melakukan prediksi pada test set dengan menggunakan model XGBoost dan hyperparameter terpilih."
   ]
  },
  {
   "cell_type": "code",
   "execution_count": 37,
   "metadata": {
    "id": "HHwFYcCPk-Bc",
    "outputId": "abe07443-4cf4-47d1-ed7d-a23676f038c6"
   },
   "outputs": [
    {
     "data": {
      "text/html": [
       "<div>\n",
       "<style scoped>\n",
       "    .dataframe tbody tr th:only-of-type {\n",
       "        vertical-align: middle;\n",
       "    }\n",
       "\n",
       "    .dataframe tbody tr th {\n",
       "        vertical-align: top;\n",
       "    }\n",
       "\n",
       "    .dataframe thead th {\n",
       "        text-align: right;\n",
       "    }\n",
       "</style>\n",
       "<table border=\"1\" class=\"dataframe\">\n",
       "  <thead>\n",
       "    <tr style=\"text-align: right;\">\n",
       "      <th></th>\n",
       "      <th>RMSE</th>\n",
       "      <th>MAE</th>\n",
       "      <th>MAPE</th>\n",
       "      <th>R2</th>\n",
       "    </tr>\n",
       "  </thead>\n",
       "  <tbody>\n",
       "    <tr>\n",
       "      <th>XGB</th>\n",
       "      <td>906.201274</td>\n",
       "      <td>356.251659</td>\n",
       "      <td>0.045649</td>\n",
       "      <td>0.9154</td>\n",
       "    </tr>\n",
       "  </tbody>\n",
       "</table>\n",
       "</div>"
      ],
      "text/plain": [
       "           RMSE         MAE      MAPE      R2\n",
       "XGB  906.201274  356.251659  0.045649  0.9154"
      ]
     },
     "execution_count": 37,
     "metadata": {},
     "output_type": "execute_result"
    }
   ],
   "source": [
    "# Model XGBoost\n",
    "model = {'XGB': XGBRegressor(random_state=1)}\n",
    "\n",
    "# Define model terhadap estimator terbaik\n",
    "xgb_tuning = random_xgb.best_estimator_\n",
    "\n",
    "# Fitting model\n",
    "xgb_tuning.fit(X_train, y_train)\n",
    "\n",
    "# Predict test set\n",
    "y_pred_xgb_tuning = xgb_tuning.predict(X_test)\n",
    "\n",
    "# Simpan nilai metrics RMSE, MAE & MAPE setelah tuning\n",
    "rmse_xgb_tuning = np.sqrt(mean_squared_error(y_test, y_pred_xgb_tuning))\n",
    "mae_xgb_tuning = mean_absolute_error(y_test, y_pred_xgb_tuning)\n",
    "mape_xgb_tuning = mean_absolute_percentage_error(y_test, y_pred_xgb_tuning)\n",
    "r2_xgb_tuning = r2_score(y_test, y_pred_xgb_tuning)\n",
    "\n",
    "score_after_tuning = pd.DataFrame({'RMSE': rmse_xgb_tuning, 'MAE': mae_xgb_tuning, 'MAPE': mape_xgb_tuning, 'R2': r2_xgb_tuning}, index=model.keys())\n",
    "score_after_tuning"
   ]
  },
  {
   "cell_type": "markdown",
   "metadata": {
    "id": "Z2SdwEqjk-Bc"
   },
   "source": [
    "**Performance Comparison**"
   ]
  },
  {
   "cell_type": "markdown",
   "metadata": {},
   "source": [
    "**Perbandingan performa model XGBoost sebelum dan sesudah dilakukan hyperparameter tuning.**"
   ]
  },
  {
   "cell_type": "code",
   "execution_count": 38,
   "metadata": {
    "id": "A7DAOe9ck-Bc",
    "outputId": "bc8d284f-7773-4345-9cc2-1f4fb28f76f4"
   },
   "outputs": [
    {
     "data": {
      "text/html": [
       "<div>\n",
       "<style scoped>\n",
       "    .dataframe tbody tr th:only-of-type {\n",
       "        vertical-align: middle;\n",
       "    }\n",
       "\n",
       "    .dataframe tbody tr th {\n",
       "        vertical-align: top;\n",
       "    }\n",
       "\n",
       "    .dataframe thead th {\n",
       "        text-align: right;\n",
       "    }\n",
       "</style>\n",
       "<table border=\"1\" class=\"dataframe\">\n",
       "  <thead>\n",
       "    <tr style=\"text-align: right;\">\n",
       "      <th></th>\n",
       "      <th>RMSE</th>\n",
       "      <th>MAE</th>\n",
       "      <th>MAPE</th>\n",
       "      <th>R2</th>\n",
       "    </tr>\n",
       "  </thead>\n",
       "  <tbody>\n",
       "    <tr>\n",
       "      <th>XGB</th>\n",
       "      <td>953.693492</td>\n",
       "      <td>409.705672</td>\n",
       "      <td>0.063105</td>\n",
       "      <td>0.9063</td>\n",
       "    </tr>\n",
       "  </tbody>\n",
       "</table>\n",
       "</div>"
      ],
      "text/plain": [
       "           RMSE         MAE      MAPE      R2\n",
       "XGB  953.693492  409.705672  0.063105  0.9063"
      ]
     },
     "execution_count": 38,
     "metadata": {},
     "output_type": "execute_result"
    }
   ],
   "source": [
    "# Sebelum hyperparameter tuning\n",
    "pd.DataFrame(score_before_tuning.loc['XGB']).T"
   ]
  },
  {
   "cell_type": "code",
   "execution_count": 39,
   "metadata": {
    "id": "ApnbXY18k-Bd",
    "outputId": "4a5d5571-9e1e-4d07-ef33-7f4a54e702ef"
   },
   "outputs": [
    {
     "data": {
      "text/html": [
       "<div>\n",
       "<style scoped>\n",
       "    .dataframe tbody tr th:only-of-type {\n",
       "        vertical-align: middle;\n",
       "    }\n",
       "\n",
       "    .dataframe tbody tr th {\n",
       "        vertical-align: top;\n",
       "    }\n",
       "\n",
       "    .dataframe thead th {\n",
       "        text-align: right;\n",
       "    }\n",
       "</style>\n",
       "<table border=\"1\" class=\"dataframe\">\n",
       "  <thead>\n",
       "    <tr style=\"text-align: right;\">\n",
       "      <th></th>\n",
       "      <th>RMSE</th>\n",
       "      <th>MAE</th>\n",
       "      <th>MAPE</th>\n",
       "      <th>R2</th>\n",
       "    </tr>\n",
       "  </thead>\n",
       "  <tbody>\n",
       "    <tr>\n",
       "      <th>XGB</th>\n",
       "      <td>906.201274</td>\n",
       "      <td>356.251659</td>\n",
       "      <td>0.045649</td>\n",
       "      <td>0.9154</td>\n",
       "    </tr>\n",
       "  </tbody>\n",
       "</table>\n",
       "</div>"
      ],
      "text/plain": [
       "           RMSE         MAE      MAPE      R2\n",
       "XGB  906.201274  356.251659  0.045649  0.9154"
      ]
     },
     "execution_count": 39,
     "metadata": {},
     "output_type": "execute_result"
    }
   ],
   "source": [
    "# Setelah hyperparameter tuning\n",
    "score_after_tuning"
   ]
  },
  {
   "cell_type": "markdown",
   "metadata": {
    "id": "B_RMuomak-Bd"
   },
   "source": [
    "Model mengalami peningkatan performa (nilai RMSE, MAE, MAPE berkurang dan R2 semakin mendekati 1) dengan dilakukannya hyperparameter tuning.\n",
    "- RMSE, MAE, MAPE, R2 sebelum tuning: 953.693492, 409.705672, 0.063105, 0.9063\n",
    "- RMSE, MAE, MAPE, R2 setelah tuning: 906.201274, 356.251659, 0.045649, 0.9154"
   ]
  },
  {
   "cell_type": "markdown",
   "metadata": {},
   "source": [
    "**Perbandingan CLV actual dengan CLV hasil prediksi model**"
   ]
  },
  {
   "cell_type": "code",
   "execution_count": 40,
   "metadata": {
    "id": "cTSAiM4ek-Bd",
    "outputId": "f979d25e-efc6-4049-bd64-bcf516eed183"
   },
   "outputs": [
    {
     "data": {
      "image/png": "[encoded data removed]",
      "text/plain": [
       "<Figure size 1008x576 with 1 Axes>"
      ]
     },
     "metadata": {
      "needs_background": "light"
     },
     "output_type": "display_data"
    }
   ],
   "source": [
    "plt.figure(figsize=(14, 8))\n",
    "plot = sns.scatterplot(x=y_test, y=y_pred_xgb_tuning).set(title='Actual vs. Prediction CLV', \n",
    "                                               xlabel='Actual CLV', \n",
    "                                               ylabel='Predicted CLV')"
   ]
  },
  {
   "cell_type": "code",
   "execution_count": 41,
   "metadata": {},
   "outputs": [
    {
     "data": {
      "image/png": "[encoded data removed]",
      "text/plain": [
       "<Figure size 432x288 with 1 Axes>"
      ]
     },
     "metadata": {
      "needs_background": "light"
     },
     "output_type": "display_data"
    }
   ],
   "source": [
    "#residual\n",
    "residuals = y_test - y_pred_xgb_tuning\n",
    "\n",
    "sns.scatterplot(y_pred_xgb_tuning, residuals)\n",
    "plt.show()"
   ]
  },
  {
   "cell_type": "markdown",
   "metadata": {},
   "source": [
    "Jika kita lihat dari plot actual vs prediction dan plot residual diatas performa model untuk memprediksi mulai menurun ketika CLV di angka 8000 ke atas "
   ]
  },
  {
   "cell_type": "markdown",
   "metadata": {
    "id": "KWpMoDRSk-Be"
   },
   "source": [
    "### **4.7. Feature Importances**"
   ]
  },
  {
   "cell_type": "markdown",
   "metadata": {
    "id": "owo68LeQk-Be"
   },
   "source": [
    "Untuk dapat mengetahui sebenarnya fitur apa saja yang sangat memengaruhi target (Customer Lifetime Value), kita dapat mengeceknya melalui function feature_importances_."
   ]
  },
  {
   "cell_type": "code",
   "execution_count": 44,
   "metadata": {
    "id": "789rPppwk-Be",
    "outputId": "b5d5ff75-9922-436b-afcc-cf67625a4381"
   },
   "outputs": [
    {
     "data": {
      "image/png": "[encoded data removed]",
      "text/plain": [
       "<Figure size 432x288 with 1 Axes>"
      ]
     },
     "metadata": {
      "needs_background": "light"
     },
     "output_type": "display_data"
    }
   ],
   "source": [
    "# Plot feature importances\n",
    "feature_imp = pd.Series(xgb_tuning['model'].feature_importances_, transformer.get_feature_names()).sort_values(ascending = False).head()\n",
    "feature_imp.plot(kind='barh', title='Feature Importances')\n",
    "plt.show()"
   ]
  },
  {
   "cell_type": "markdown",
   "metadata": {},
   "source": [
    "Terlihat fitur yang paling mempengaruhi CLV adalah 'Number of Policies', 'Monthly Premium Auto', dan 'Vehicle Class'"
   ]
  },
  {
   "cell_type": "markdown",
   "metadata": {},
   "source": [
    "## **5. Conclusion**\n",
    "---"
   ]
  },
  {
   "cell_type": "markdown",
   "metadata": {},
   "source": [
    "Model terbaik yang dipilih untuk memprediksi CLV adalah XGBoost. Metrik evaluasi yang digunakan pada model adalah nilai RMSE, MAE, MAPE, dan R-squared. Jika ditinjau dari nilai MAPE yang dihasilkan oleh model setelah dilakukan hyperparameter tuning, yaitu sekitar 4%, kita dapat menyimpulkan bahwa bila nanti model yang kita buat ini digunakan untuk memprediksi Customer Lifetime Value pada rentang nilai seperti yang dilatih terhadap model, maka hasil prediksi CLVnya rata-rata dapat meleset kurang lebih sekitar 4% dari CLV yang seharusnya.\n",
    "\n",
    "Tetapi, tidak menutup kemungkinan juga prediksinya meleset lebih jauh karena bias yang dihasilkan model masih cukup tinggi. Bila dilihat dari visualisasi antara CLV aktual dan prediksi serta residual performa prediksi model mulai menurun ketika CLV sekitar 8.000 keatas. Bias yang dihasilkan oleh model ini dikarenakan oleh terbatasnya fitur pada dataset yang bisa merepresentasikan aspek customer dan juga polis asuransi mereka.\n",
    "\n",
    "Beberapa limitasi model yang tercipta karena adanya rentang nilai yang dipakai untuk train model ini yaitu:\n",
    "- Nilai Customer Lifetime Value maksimal 16646.5203465\n",
    "- Nilai Total Claim Amount maksimal 974.566507\n",
    "- Nilai Monthly Premium Auto maksimal 163\n",
    "\n",
    "Berdasarkan pemodelan yang sudah dilakukan, fitur 'Number of Policies', 'Monthly Premium Auto', dan 'Vehicle Class' menjadi fitur yang paling berpengaruh terhadap target 'Customer Lifetime Value'.\n",
    "Hal tersebut dapat menjawab bussiness problem mengenai apa saja aspek yang mempengaruhi CLV customer.\n",
    "Dengan mengetahui fitur apa saja yang mempengaruhi CLV customer maka perusahaan dapat memfokuskan strategi bisnisnya terhadap ketiga aspek tersebut untuk dapat meningkatkan profit perusahaan. \n",
    "\n",
    "Berdasarkan pemodelan yang sudah dilakukan, perusahaan memiliki tool untuk memprediksi nilai Customer Lifetime Value.\n",
    "Dengan dapat diprediksinya CLV maka dapat membantu bussiness problem mengenai perhitungan biaya maksimal untuk akuisisi customer. Perusahaan dapat mengatur agar biaya akuisisi tidak sampai melebihi CLV atau sebisa mungkin jauh lebih rendah dibanding CLV agar perusahaan mendapat profit maksimal."
   ]
  },
  {
   "cell_type": "markdown",
   "metadata": {},
   "source": [
    "## **6. Recommendation**\n",
    "---"
   ]
  },
  {
   "cell_type": "markdown",
   "metadata": {},
   "source": [
    "Beberapa hal yang dapat dilakukan untuk mengembangkan model agar lebih baik lagi yaitu:\n",
    "\n",
    "- Eksperimen menggunakan model machine learning lainnya yang belum digunakan pada project ini\n",
    "- Eksperimen dalam hyperparameter tuning lebih lanjut\n",
    "- Penambahan fitur lain yang behubungan dengan informasi polis customer, seperti informasi berapa bulan lamanya customer sudah menggunakan asuransi dari perusahaan ini.\n",
    "- Mengecek prediksi data mana saja yang menghasilkan nilai error tinggi. lalu melakukan analisa hubungan antara error tersebut dengan setiap variable independen dengan tujuan untuk mengetahui sebenarnya variable mana saja yang menyebabkan prediksi model menghasilkan error yang tinggi."
   ]
  },
  {
   "cell_type": "markdown",
   "metadata": {},
   "source": [
    "---\n"
   ]
  },
  {
   "cell_type": "markdown",
   "metadata": {},
   "source": [
    "\n",
    "\n",
    "## **Save Model**"
   ]
  },
  {
   "cell_type": "code",
   "execution_count": 45,
   "metadata": {},
   "outputs": [],
   "source": [
    "# Save model\n",
    "import pickle\n",
    "\n",
    "estimator = Pipeline([('preprocess', transformer), ('model', XGBRegressor())])\n",
    "estimator.fit(X_train, y_train)\n",
    "\n",
    "pickle.dump(estimator, open('Model_CLV_XGB.sav', 'wb'))"
   ]
  },
  {
   "cell_type": "code",
   "execution_count": 46,
   "metadata": {},
   "outputs": [
    {
     "data": {
      "text/plain": [
       "0.9520067616997477"
      ]
     },
     "execution_count": 46,
     "metadata": {},
     "output_type": "execute_result"
    }
   ],
   "source": [
    "# Load model\n",
    "filename = 'Model_CLV_XGB.sav'\n",
    "loaded_model = pickle.load(open(filename, 'rb'))\n",
    "np.sqrt(r2_score(y_test, loaded_model.predict(X_test)))"
   ]
  }
 ],
 "metadata": {
  "kernelspec": {
   "display_name": "Python 3.9.13 64-bit",
   "language": "python",
   "name": "python3"
  },
  "language_info": {
   "codemirror_mode": {
    "name": "ipython",
    "version": 3
   },
   "file_extension": ".py",
   "mimetype": "text/x-python",
   "name": "python",
   "nbconvert_exporter": "python",
   "pygments_lexer": "ipython3",
   "version": "3.9.13"
  },
  "orig_nbformat": 4,
  "vscode": {
   "interpreter": {
    "hash": "ffb4a1ed34435617276cc9d7e36d363d2ea362a57f2019328f6a11be6c939af2"
   }
  }
 },
 "nbformat": 4,
 "nbformat_minor": 2
}
